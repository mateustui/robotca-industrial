{
  "nbformat": 4,
  "nbformat_minor": 0,
  "metadata": {
    "colab": {
      "name": "RI - Aula 05 - Cinemática Direta - Python Simbólico.ipynb",
      "provenance": [],
      "collapsed_sections": []
    },
    "kernelspec": {
      "name": "python3",
      "display_name": "Python 3"
    }
  },
  "cells": [
    {
      "cell_type": "markdown",
      "metadata": {
        "id": "nbqCk2bvYNsl"
      },
      "source": [
        "# **Robótica Industrial - Aula 05 - Cinemática Direta - Python Simbólico** \n",
        "Prof. Lucas Vago Santana\n",
        "\n",
        "*Obs: O objetivo do código é ser didático. Portanto, ele pode não possuir a implementação mais eficiente.*"
      ]
    },
    {
      "cell_type": "markdown",
      "metadata": {
        "id": "ORKHt3bqYgCZ"
      },
      "source": [
        "# **Exemplo 01: Usando a biblioteca *Sympy***\n",
        "* A biblioteca [sympy](https://www.sympy.org/pt/index.html) manipula variáveis simbólicas;\n",
        "* Pode-se usá-la para realizar operações algébricas;\n",
        "* Neste exemplo, demonstra-se como realizar operações simbólicas para obter as equações da Cinemática Direta de um manipulador planar de duas juntas;\n",
        "* O resultado da célula deve ser uma expressão no padrão $\\LaTeX$.\n",
        "\n",
        " "
      ]
    },
    {
      "cell_type": "code",
      "metadata": {
        "id": "iv1mC4lmEsUX",
        "colab": {
          "base_uri": "https://localhost:8080/",
          "height": 78
        },
        "outputId": "49e4a58b-efab-4781-e987-5a64c4b2aa7a"
      },
      "source": [
        "import numpy as np\n",
        "import sympy as sym\n",
        "\n",
        "######################################################################################\n",
        "############################### PRINT SIMBÓLICO EM LATEX #############################\n",
        "######################################################################################\n",
        "# Fonte: https://gist.github.com/snowdj/e7de73023d9ed8b79dcce9a46a57dae8\n",
        "\n",
        "def custom_latex_printer(exp, **options):\n",
        "    from google.colab.output._publish import javascript\n",
        "    url = \"https://cdnjs.cloudflare.com/ajax/libs/mathjax/2.7.3/latest.js?config=default\"\n",
        "    javascript(url=url)\n",
        "    return sym.printing.latex(exp, **options)\n",
        "\n",
        "sym.init_printing(use_latex=\"mathjax\", latex_printer=custom_latex_printer)\n",
        "\n",
        "######################################################################################\n",
        "####################### FUNÇÕES DE TRANSFORMAÇÃO HOMOGÊNEA ###########################\n",
        "######################################################################################\n",
        "\n",
        "#Função que cria tranformações homogêneas (convertida para sympy - simbólica)\n",
        "def t_homogenea(theta, xt, yt):\n",
        "  ct = sym.cos(theta)\n",
        "  st = sym.sin(theta)\n",
        "  return np.array(( (ct, -st, xt), \n",
        "                    (st,  ct, yt),\n",
        "                    (0 ,   0, 1) ))\n",
        "\n",
        "######################################################################################\n",
        "################################# PYTHON SIMBÓLICO ###################################\n",
        "######################################################################################\n",
        "q1, a1, q2, a2, q3, a3 = sym.symbols('q1 a1 q2 a2 q3 a3')\n",
        "\n",
        "R1 = t_homogenea(q1, 0, 0)\n",
        "T1 = t_homogenea(0, a1, 0)\n",
        "R2 = t_homogenea(q2, 0, 0)\n",
        "T2 = t_homogenea(0, a2, 0)\n",
        "R3 = t_homogenea(q3, 0, 0)\n",
        "T3 = t_homogenea(0, a3, 0)\n",
        "\n",
        "T = np.linalg.multi_dot([R1,T1,R2,T2,R3,T3])\n",
        "\n",
        "T = sym.simplify(T) #Symplifica equação simbólica\n",
        "\n",
        "T #Exibe no console de saída"
      ],
      "execution_count": 2,
      "outputs": [
        {
          "output_type": "display_data",
          "data": {
            "text/plain": [
              "<IPython.core.display.HTML object>"
            ],
            "text/html": [
              "<script src='https://cdnjs.cloudflare.com/ajax/libs/mathjax/2.7.3/latest.js?config=default'></script>"
            ]
          },
          "metadata": {}
        },
        {
          "output_type": "execute_result",
          "data": {
            "text/plain": [
              "⎡cos(q₁ + q₂ + q₃)  -sin(q₁ + q₂ + q₃)  a₁⋅cos(q₁) + a₂⋅cos(q₁ + q₂) + a₃⋅cos(\n",
              "⎢                                                                             \n",
              "⎢sin(q₁ + q₂ + q₃)  cos(q₁ + q₂ + q₃)   a₁⋅sin(q₁) + a₂⋅sin(q₁ + q₂) + a₃⋅sin(\n",
              "⎢                                                                             \n",
              "⎣        0                  0                                    1            \n",
              "\n",
              "q₁ + q₂ + q₃)⎤\n",
              "             ⎥\n",
              "q₁ + q₂ + q₃)⎥\n",
              "             ⎥\n",
              "             ⎦"
            ],
            "text/latex": "$\\displaystyle \\left[\\begin{matrix}\\cos{\\left(q_{1} + q_{2} + q_{3} \\right)} & - \\sin{\\left(q_{1} + q_{2} + q_{3} \\right)} & a_{1} \\cos{\\left(q_{1} \\right)} + a_{2} \\cos{\\left(q_{1} + q_{2} \\right)} + a_{3} \\cos{\\left(q_{1} + q_{2} + q_{3} \\right)}\\\\\\sin{\\left(q_{1} + q_{2} + q_{3} \\right)} & \\cos{\\left(q_{1} + q_{2} + q_{3} \\right)} & a_{1} \\sin{\\left(q_{1} \\right)} + a_{2} \\sin{\\left(q_{1} + q_{2} \\right)} + a_{3} \\sin{\\left(q_{1} + q_{2} + q_{3} \\right)}\\\\0 & 0 & 1\\end{matrix}\\right]$"
          },
          "metadata": {},
          "execution_count": 2
        }
      ]
    }
  ]
}