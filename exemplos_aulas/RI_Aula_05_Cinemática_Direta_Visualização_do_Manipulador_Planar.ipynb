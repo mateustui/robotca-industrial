{
  "cells": [
    {
      "cell_type": "markdown",
      "metadata": {
        "id": "Rg9U9oXzbdi8"
      },
      "source": [
        "# **Robótica Industrial - Aula 05 - Cinemática Direta**\n",
        "## **Visualização de um manipulador planar de 2 juntas** \n",
        "Prof. Lucas Vago Santana\n",
        "\n",
        "*Obs: O objetivo do código é ser didático. Portanto, ele pode não possuir a implementação mais eficiente.*"
      ]
    },
    {
      "cell_type": "markdown",
      "metadata": {
        "id": "BfN-rdEObdxq"
      },
      "source": [
        "# **Exemplo 01: Manipulador planar de 2 juntas (estático)**\n",
        "* Visualização usando a biblioteca plotly.\n",
        "\n",
        " "
      ]
    },
    {
      "cell_type": "code",
      "execution_count": 1,
      "metadata": {
        "colab": {
          "base_uri": "https://localhost:8080/",
          "height": 452
        },
        "id": "aQKgl-rSsUmA",
        "outputId": "556b83bc-1320-46b3-b5ed-cd026dc18db8"
      },
      "outputs": [
        {
          "name": "stdout",
          "output_type": "stream",
          "text": [
            "Use o mouse para interagir com a figura gerada:\n",
            "Posição do efetuador final: x = [1.7] e y =[1.7]\n"
          ]
        },
        {
          "data": {
            "application/vnd.plotly.v1+json": {
              "config": {
                "plotlyServerURL": "https://plot.ly"
              },
              "data": [
                {
                  "line": {
                    "color": "blue",
                    "width": 20
                  },
                  "mode": "markers+lines+text",
                  "name": "L1",
                  "text": [
                    "O1",
                    ""
                  ],
                  "type": "scatter3d",
                  "x": [
                    0,
                    1
                  ],
                  "y": [
                    0,
                    0
                  ],
                  "z": [
                    0,
                    0
                  ]
                },
                {
                  "line": {
                    "color": "red",
                    "width": 20
                  },
                  "mode": "markers+lines+text",
                  "name": "L2",
                  "type": "scatter3d",
                  "x": [
                    1,
                    1.7071067811865475
                  ],
                  "y": [
                    0,
                    0.7071067811865476
                  ],
                  "z": [
                    0,
                    0
                  ]
                },
                {
                  "line": {
                    "color": "green",
                    "width": 20
                  },
                  "mode": "markers+lines+text",
                  "name": "L3",
                  "type": "scatter3d",
                  "x": [
                    1.7071067811865475,
                    1.7071067811865475
                  ],
                  "y": [
                    0.7071067811865476,
                    1.7071067811865475
                  ],
                  "z": [
                    0,
                    0
                  ]
                },
                {
                  "line": {
                    "color": "darkblue",
                    "width": 5
                  },
                  "mode": "lines+text",
                  "name": "Ex",
                  "text": [
                    "",
                    "x"
                  ],
                  "textfont": {
                    "color": "darkblue"
                  },
                  "type": "scatter3d",
                  "x": [
                    1.7071067811865475,
                    1.7071067811865472
                  ],
                  "y": [
                    1.7071067811865475,
                    2.707106781186548
                  ],
                  "z": [
                    0,
                    0
                  ]
                },
                {
                  "line": {
                    "color": "darkred",
                    "width": 5
                  },
                  "mode": "lines+text",
                  "name": "Ey",
                  "text": [
                    "",
                    "y"
                  ],
                  "textfont": {
                    "color": "darkred"
                  },
                  "type": "scatter3d",
                  "x": [
                    1.7071067811865475,
                    0.7071067811865474
                  ],
                  "y": [
                    1.7071067811865475,
                    1.707106781186548
                  ],
                  "z": [
                    0,
                    0
                  ]
                }
              ],
              "layout": {
                "autosize": false,
                "height": 400,
                "margin": {
                  "b": 0,
                  "l": 0,
                  "r": 0,
                  "t": 0
                },
                "scene": {
                  "aspectmode": "cube",
                  "xaxis": {
                    "range": [
                      -3,
                      3
                    ]
                  },
                  "yaxis": {
                    "range": [
                      -3,
                      3
                    ]
                  },
                  "zaxis": {
                    "range": [
                      -1.5,
                      1.5
                    ]
                  }
                },
                "showlegend": false,
                "template": {
                  "data": {
                    "bar": [
                      {
                        "error_x": {
                          "color": "#2a3f5f"
                        },
                        "error_y": {
                          "color": "#2a3f5f"
                        },
                        "marker": {
                          "line": {
                            "color": "#E5ECF6",
                            "width": 0.5
                          },
                          "pattern": {
                            "fillmode": "overlay",
                            "size": 10,
                            "solidity": 0.2
                          }
                        },
                        "type": "bar"
                      }
                    ],
                    "barpolar": [
                      {
                        "marker": {
                          "line": {
                            "color": "#E5ECF6",
                            "width": 0.5
                          },
                          "pattern": {
                            "fillmode": "overlay",
                            "size": 10,
                            "solidity": 0.2
                          }
                        },
                        "type": "barpolar"
                      }
                    ],
                    "carpet": [
                      {
                        "aaxis": {
                          "endlinecolor": "#2a3f5f",
                          "gridcolor": "white",
                          "linecolor": "white",
                          "minorgridcolor": "white",
                          "startlinecolor": "#2a3f5f"
                        },
                        "baxis": {
                          "endlinecolor": "#2a3f5f",
                          "gridcolor": "white",
                          "linecolor": "white",
                          "minorgridcolor": "white",
                          "startlinecolor": "#2a3f5f"
                        },
                        "type": "carpet"
                      }
                    ],
                    "choropleth": [
                      {
                        "colorbar": {
                          "outlinewidth": 0,
                          "ticks": ""
                        },
                        "type": "choropleth"
                      }
                    ],
                    "contour": [
                      {
                        "colorbar": {
                          "outlinewidth": 0,
                          "ticks": ""
                        },
                        "colorscale": [
                          [
                            0,
                            "#0d0887"
                          ],
                          [
                            0.1111111111111111,
                            "#46039f"
                          ],
                          [
                            0.2222222222222222,
                            "#7201a8"
                          ],
                          [
                            0.3333333333333333,
                            "#9c179e"
                          ],
                          [
                            0.4444444444444444,
                            "#bd3786"
                          ],
                          [
                            0.5555555555555556,
                            "#d8576b"
                          ],
                          [
                            0.6666666666666666,
                            "#ed7953"
                          ],
                          [
                            0.7777777777777778,
                            "#fb9f3a"
                          ],
                          [
                            0.8888888888888888,
                            "#fdca26"
                          ],
                          [
                            1,
                            "#f0f921"
                          ]
                        ],
                        "type": "contour"
                      }
                    ],
                    "contourcarpet": [
                      {
                        "colorbar": {
                          "outlinewidth": 0,
                          "ticks": ""
                        },
                        "type": "contourcarpet"
                      }
                    ],
                    "heatmap": [
                      {
                        "colorbar": {
                          "outlinewidth": 0,
                          "ticks": ""
                        },
                        "colorscale": [
                          [
                            0,
                            "#0d0887"
                          ],
                          [
                            0.1111111111111111,
                            "#46039f"
                          ],
                          [
                            0.2222222222222222,
                            "#7201a8"
                          ],
                          [
                            0.3333333333333333,
                            "#9c179e"
                          ],
                          [
                            0.4444444444444444,
                            "#bd3786"
                          ],
                          [
                            0.5555555555555556,
                            "#d8576b"
                          ],
                          [
                            0.6666666666666666,
                            "#ed7953"
                          ],
                          [
                            0.7777777777777778,
                            "#fb9f3a"
                          ],
                          [
                            0.8888888888888888,
                            "#fdca26"
                          ],
                          [
                            1,
                            "#f0f921"
                          ]
                        ],
                        "type": "heatmap"
                      }
                    ],
                    "heatmapgl": [
                      {
                        "colorbar": {
                          "outlinewidth": 0,
                          "ticks": ""
                        },
                        "colorscale": [
                          [
                            0,
                            "#0d0887"
                          ],
                          [
                            0.1111111111111111,
                            "#46039f"
                          ],
                          [
                            0.2222222222222222,
                            "#7201a8"
                          ],
                          [
                            0.3333333333333333,
                            "#9c179e"
                          ],
                          [
                            0.4444444444444444,
                            "#bd3786"
                          ],
                          [
                            0.5555555555555556,
                            "#d8576b"
                          ],
                          [
                            0.6666666666666666,
                            "#ed7953"
                          ],
                          [
                            0.7777777777777778,
                            "#fb9f3a"
                          ],
                          [
                            0.8888888888888888,
                            "#fdca26"
                          ],
                          [
                            1,
                            "#f0f921"
                          ]
                        ],
                        "type": "heatmapgl"
                      }
                    ],
                    "histogram": [
                      {
                        "marker": {
                          "pattern": {
                            "fillmode": "overlay",
                            "size": 10,
                            "solidity": 0.2
                          }
                        },
                        "type": "histogram"
                      }
                    ],
                    "histogram2d": [
                      {
                        "colorbar": {
                          "outlinewidth": 0,
                          "ticks": ""
                        },
                        "colorscale": [
                          [
                            0,
                            "#0d0887"
                          ],
                          [
                            0.1111111111111111,
                            "#46039f"
                          ],
                          [
                            0.2222222222222222,
                            "#7201a8"
                          ],
                          [
                            0.3333333333333333,
                            "#9c179e"
                          ],
                          [
                            0.4444444444444444,
                            "#bd3786"
                          ],
                          [
                            0.5555555555555556,
                            "#d8576b"
                          ],
                          [
                            0.6666666666666666,
                            "#ed7953"
                          ],
                          [
                            0.7777777777777778,
                            "#fb9f3a"
                          ],
                          [
                            0.8888888888888888,
                            "#fdca26"
                          ],
                          [
                            1,
                            "#f0f921"
                          ]
                        ],
                        "type": "histogram2d"
                      }
                    ],
                    "histogram2dcontour": [
                      {
                        "colorbar": {
                          "outlinewidth": 0,
                          "ticks": ""
                        },
                        "colorscale": [
                          [
                            0,
                            "#0d0887"
                          ],
                          [
                            0.1111111111111111,
                            "#46039f"
                          ],
                          [
                            0.2222222222222222,
                            "#7201a8"
                          ],
                          [
                            0.3333333333333333,
                            "#9c179e"
                          ],
                          [
                            0.4444444444444444,
                            "#bd3786"
                          ],
                          [
                            0.5555555555555556,
                            "#d8576b"
                          ],
                          [
                            0.6666666666666666,
                            "#ed7953"
                          ],
                          [
                            0.7777777777777778,
                            "#fb9f3a"
                          ],
                          [
                            0.8888888888888888,
                            "#fdca26"
                          ],
                          [
                            1,
                            "#f0f921"
                          ]
                        ],
                        "type": "histogram2dcontour"
                      }
                    ],
                    "mesh3d": [
                      {
                        "colorbar": {
                          "outlinewidth": 0,
                          "ticks": ""
                        },
                        "type": "mesh3d"
                      }
                    ],
                    "parcoords": [
                      {
                        "line": {
                          "colorbar": {
                            "outlinewidth": 0,
                            "ticks": ""
                          }
                        },
                        "type": "parcoords"
                      }
                    ],
                    "pie": [
                      {
                        "automargin": true,
                        "type": "pie"
                      }
                    ],
                    "scatter": [
                      {
                        "fillpattern": {
                          "fillmode": "overlay",
                          "size": 10,
                          "solidity": 0.2
                        },
                        "type": "scatter"
                      }
                    ],
                    "scatter3d": [
                      {
                        "line": {
                          "colorbar": {
                            "outlinewidth": 0,
                            "ticks": ""
                          }
                        },
                        "marker": {
                          "colorbar": {
                            "outlinewidth": 0,
                            "ticks": ""
                          }
                        },
                        "type": "scatter3d"
                      }
                    ],
                    "scattercarpet": [
                      {
                        "marker": {
                          "colorbar": {
                            "outlinewidth": 0,
                            "ticks": ""
                          }
                        },
                        "type": "scattercarpet"
                      }
                    ],
                    "scattergeo": [
                      {
                        "marker": {
                          "colorbar": {
                            "outlinewidth": 0,
                            "ticks": ""
                          }
                        },
                        "type": "scattergeo"
                      }
                    ],
                    "scattergl": [
                      {
                        "marker": {
                          "colorbar": {
                            "outlinewidth": 0,
                            "ticks": ""
                          }
                        },
                        "type": "scattergl"
                      }
                    ],
                    "scattermapbox": [
                      {
                        "marker": {
                          "colorbar": {
                            "outlinewidth": 0,
                            "ticks": ""
                          }
                        },
                        "type": "scattermapbox"
                      }
                    ],
                    "scatterpolar": [
                      {
                        "marker": {
                          "colorbar": {
                            "outlinewidth": 0,
                            "ticks": ""
                          }
                        },
                        "type": "scatterpolar"
                      }
                    ],
                    "scatterpolargl": [
                      {
                        "marker": {
                          "colorbar": {
                            "outlinewidth": 0,
                            "ticks": ""
                          }
                        },
                        "type": "scatterpolargl"
                      }
                    ],
                    "scatterternary": [
                      {
                        "marker": {
                          "colorbar": {
                            "outlinewidth": 0,
                            "ticks": ""
                          }
                        },
                        "type": "scatterternary"
                      }
                    ],
                    "surface": [
                      {
                        "colorbar": {
                          "outlinewidth": 0,
                          "ticks": ""
                        },
                        "colorscale": [
                          [
                            0,
                            "#0d0887"
                          ],
                          [
                            0.1111111111111111,
                            "#46039f"
                          ],
                          [
                            0.2222222222222222,
                            "#7201a8"
                          ],
                          [
                            0.3333333333333333,
                            "#9c179e"
                          ],
                          [
                            0.4444444444444444,
                            "#bd3786"
                          ],
                          [
                            0.5555555555555556,
                            "#d8576b"
                          ],
                          [
                            0.6666666666666666,
                            "#ed7953"
                          ],
                          [
                            0.7777777777777778,
                            "#fb9f3a"
                          ],
                          [
                            0.8888888888888888,
                            "#fdca26"
                          ],
                          [
                            1,
                            "#f0f921"
                          ]
                        ],
                        "type": "surface"
                      }
                    ],
                    "table": [
                      {
                        "cells": {
                          "fill": {
                            "color": "#EBF0F8"
                          },
                          "line": {
                            "color": "white"
                          }
                        },
                        "header": {
                          "fill": {
                            "color": "#C8D4E3"
                          },
                          "line": {
                            "color": "white"
                          }
                        },
                        "type": "table"
                      }
                    ]
                  },
                  "layout": {
                    "annotationdefaults": {
                      "arrowcolor": "#2a3f5f",
                      "arrowhead": 0,
                      "arrowwidth": 1
                    },
                    "autotypenumbers": "strict",
                    "coloraxis": {
                      "colorbar": {
                        "outlinewidth": 0,
                        "ticks": ""
                      }
                    },
                    "colorscale": {
                      "diverging": [
                        [
                          0,
                          "#8e0152"
                        ],
                        [
                          0.1,
                          "#c51b7d"
                        ],
                        [
                          0.2,
                          "#de77ae"
                        ],
                        [
                          0.3,
                          "#f1b6da"
                        ],
                        [
                          0.4,
                          "#fde0ef"
                        ],
                        [
                          0.5,
                          "#f7f7f7"
                        ],
                        [
                          0.6,
                          "#e6f5d0"
                        ],
                        [
                          0.7,
                          "#b8e186"
                        ],
                        [
                          0.8,
                          "#7fbc41"
                        ],
                        [
                          0.9,
                          "#4d9221"
                        ],
                        [
                          1,
                          "#276419"
                        ]
                      ],
                      "sequential": [
                        [
                          0,
                          "#0d0887"
                        ],
                        [
                          0.1111111111111111,
                          "#46039f"
                        ],
                        [
                          0.2222222222222222,
                          "#7201a8"
                        ],
                        [
                          0.3333333333333333,
                          "#9c179e"
                        ],
                        [
                          0.4444444444444444,
                          "#bd3786"
                        ],
                        [
                          0.5555555555555556,
                          "#d8576b"
                        ],
                        [
                          0.6666666666666666,
                          "#ed7953"
                        ],
                        [
                          0.7777777777777778,
                          "#fb9f3a"
                        ],
                        [
                          0.8888888888888888,
                          "#fdca26"
                        ],
                        [
                          1,
                          "#f0f921"
                        ]
                      ],
                      "sequentialminus": [
                        [
                          0,
                          "#0d0887"
                        ],
                        [
                          0.1111111111111111,
                          "#46039f"
                        ],
                        [
                          0.2222222222222222,
                          "#7201a8"
                        ],
                        [
                          0.3333333333333333,
                          "#9c179e"
                        ],
                        [
                          0.4444444444444444,
                          "#bd3786"
                        ],
                        [
                          0.5555555555555556,
                          "#d8576b"
                        ],
                        [
                          0.6666666666666666,
                          "#ed7953"
                        ],
                        [
                          0.7777777777777778,
                          "#fb9f3a"
                        ],
                        [
                          0.8888888888888888,
                          "#fdca26"
                        ],
                        [
                          1,
                          "#f0f921"
                        ]
                      ]
                    },
                    "colorway": [
                      "#636efa",
                      "#EF553B",
                      "#00cc96",
                      "#ab63fa",
                      "#FFA15A",
                      "#19d3f3",
                      "#FF6692",
                      "#B6E880",
                      "#FF97FF",
                      "#FECB52"
                    ],
                    "font": {
                      "color": "#2a3f5f"
                    },
                    "geo": {
                      "bgcolor": "white",
                      "lakecolor": "white",
                      "landcolor": "#E5ECF6",
                      "showlakes": true,
                      "showland": true,
                      "subunitcolor": "white"
                    },
                    "hoverlabel": {
                      "align": "left"
                    },
                    "hovermode": "closest",
                    "mapbox": {
                      "style": "light"
                    },
                    "paper_bgcolor": "white",
                    "plot_bgcolor": "#E5ECF6",
                    "polar": {
                      "angularaxis": {
                        "gridcolor": "white",
                        "linecolor": "white",
                        "ticks": ""
                      },
                      "bgcolor": "#E5ECF6",
                      "radialaxis": {
                        "gridcolor": "white",
                        "linecolor": "white",
                        "ticks": ""
                      }
                    },
                    "scene": {
                      "xaxis": {
                        "backgroundcolor": "#E5ECF6",
                        "gridcolor": "white",
                        "gridwidth": 2,
                        "linecolor": "white",
                        "showbackground": true,
                        "ticks": "",
                        "zerolinecolor": "white"
                      },
                      "yaxis": {
                        "backgroundcolor": "#E5ECF6",
                        "gridcolor": "white",
                        "gridwidth": 2,
                        "linecolor": "white",
                        "showbackground": true,
                        "ticks": "",
                        "zerolinecolor": "white"
                      },
                      "zaxis": {
                        "backgroundcolor": "#E5ECF6",
                        "gridcolor": "white",
                        "gridwidth": 2,
                        "linecolor": "white",
                        "showbackground": true,
                        "ticks": "",
                        "zerolinecolor": "white"
                      }
                    },
                    "shapedefaults": {
                      "line": {
                        "color": "#2a3f5f"
                      }
                    },
                    "ternary": {
                      "aaxis": {
                        "gridcolor": "white",
                        "linecolor": "white",
                        "ticks": ""
                      },
                      "baxis": {
                        "gridcolor": "white",
                        "linecolor": "white",
                        "ticks": ""
                      },
                      "bgcolor": "#E5ECF6",
                      "caxis": {
                        "gridcolor": "white",
                        "linecolor": "white",
                        "ticks": ""
                      }
                    },
                    "title": {
                      "x": 0.05
                    },
                    "xaxis": {
                      "automargin": true,
                      "gridcolor": "white",
                      "linecolor": "white",
                      "ticks": "",
                      "title": {
                        "standoff": 15
                      },
                      "zerolinecolor": "white",
                      "zerolinewidth": 2
                    },
                    "yaxis": {
                      "automargin": true,
                      "gridcolor": "white",
                      "linecolor": "white",
                      "ticks": "",
                      "title": {
                        "standoff": 15
                      },
                      "zerolinecolor": "white",
                      "zerolinewidth": 2
                    }
                  }
                },
                "width": 400
              }
            }
          },
          "metadata": {},
          "output_type": "display_data"
        }
      ],
      "source": [
        "import plotly.graph_objects as go\n",
        "import numpy as np\n",
        "\n",
        "######################################################################################\n",
        "############################ FUNÇÕES DE TRANSFORMAÇÃO ################################\n",
        "######################################################################################\n",
        "\n",
        "#Cria tranformação homogênea com rotação pura\n",
        "def Rt(theta):\n",
        "  theta = np.radians(theta)  \n",
        "  cp = np.cos(theta)\n",
        "  sp = np.sin(theta)\n",
        "  return np.array(( (cp, -sp, 0, 0), \n",
        "                    (sp,  cp, 0, 0),\n",
        "                    ( 0,   0, 1, 0),\n",
        "                    ( 0,   0, 0, 1) ))\n",
        "  \n",
        "#Cria tranformação homogênea com translação pura\n",
        "def Tx(x):\n",
        "  return np.array(( (1, 0, 0, x), \n",
        "                    (0, 1, 0, 0),\n",
        "                    (0, 0, 1, 0),\n",
        "                    (0, 0, 0, 1) ))\n",
        "\n",
        "######################################################################################\n",
        "############################### PLOT DO ROBÔ #########################################\n",
        "######################################################################################\n",
        "def plot2jrobot(q1, a1, q2, a2, q3, a3):\n",
        "  # Coordenadas dos Elos do robô\n",
        "  O1 = np.array((0,0,0,1)) # Origem Elo 1\n",
        "  L1 = np.linalg.multi_dot([Rt(q1), Tx(a1), O1]) #Leva origem até o final do Elo 1\n",
        "  L2 = np.linalg.multi_dot([Rt(q1), Tx(a1), Rt(q2), Tx(a2), O1]) #Leva origem até o final do Elo 2\n",
        "  L3 = np.linalg.multi_dot([Rt(q1), Tx(a1), Rt(q2), Tx(a2), Rt(q3), Tx(a3), O1]) #Leva origem até o final do Elo 3\n",
        "  Vx = np.linalg.multi_dot([Rt(q1), Tx(a1), Rt(q2), Tx(a2), Rt(q3), Tx(a3), np.array((1,0,0,1))]) #Apenas plota o eixo x de coordenadas no efetuador final\n",
        "  Vy = np.linalg.multi_dot([Rt(q1), Tx(a1), Rt(q2), Tx(a2),  Rt(q3), Tx(a3), np.array((0,1,0,1))]) #Apenas plota o eixo y de coordenadas no efetuador final\n",
        "\n",
        "  X1 = np.zeros((2, 3))\n",
        "  X2 = np.zeros((2, 3))\n",
        "  X3 = np.zeros((2, 3))\n",
        "  EX = np.zeros((2, 3))\n",
        "  EY = np.zeros((2, 3))\n",
        "\n",
        "  X1[0,:] = O1[:3] #Pega os três primeiros elementos apenas\n",
        "  X1[1,:] = L1[:3]\n",
        "\n",
        "  X2[0,:] = L1[:3] #Pega os três primeiros elementos apenas. Origem Elo 2 é L1\n",
        "  X2[1,:] = L2[:3]\n",
        "\n",
        "  X3[0,:] = L2[:3] #Pega os três primeiros elementos apenas. Origem Elo 3 é L2\n",
        "  X3[1,:] = L3[:3]\n",
        "\n",
        "  EX[0,:] = L3[:3]\n",
        "  EX[1,:] = Vx[:3]\n",
        "\n",
        "  EY[0,:] = L3[:3]\n",
        "  EY[1,:] = Vy[:3]\n",
        "\n",
        "  fig = go.Figure()\n",
        "\n",
        "  #Plot dos elos\n",
        "  fig.add_trace(go.Scatter3d(x=X1[:,0], y=X1[:,1], z=X1[:,2], mode='markers+lines+text',text=[\"O1\",\"\"], name='L1', line=dict(color='blue',width=20)))\n",
        "  fig.add_trace(go.Scatter3d(x=X2[:,0], y=X2[:,1], z=X2[:,2], mode='markers+lines+text', name='L2', line=dict(color='red',width=20)))\n",
        "  fig.add_trace(go.Scatter3d(x=X3[:,0], y=X3[:,1], z=X3[:,2], mode='markers+lines+text', name='L3', line=dict(color='green',width=20)))\n",
        "\n",
        "  \n",
        "\n",
        "  \n",
        "  # Plot dos eixos x e y no efetuador final\n",
        "  fig.add_trace(go.Scatter3d(x=EX[:,0], y=EX[:,1], z=EX[:,2], mode='lines+text', text=[\"\",\"x\"], textfont=dict(color=\"darkblue\"),name='Ex', line=dict(color='darkblue',width=5)))\n",
        "  fig.add_trace(go.Scatter3d(x=EY[:,0], y=EY[:,1], z=EY[:,2], mode='lines+text', text=[\"\",\"y\"], textfont=dict(color=\"darkred\"),name='Ey', line=dict(color='darkred',width=5)))\n",
        "\n",
        "  #Configuração de layout da imagem gerada\n",
        "  fig.update_layout(\n",
        "      autosize=False,\n",
        "      showlegend=False,\n",
        "      width=400,\n",
        "      height=400,\n",
        "      margin=dict(l=0,r=0,t=0,b=0)\n",
        "  )\n",
        "\n",
        "  lim = 3.0\n",
        "  fig.update_scenes(\n",
        "      aspectmode= \"cube\",\n",
        "      xaxis=dict(range=[-lim,lim]),\n",
        "      yaxis=dict(range=[-lim,lim]),\n",
        "      zaxis=dict(range=[-lim/2,lim/2])\n",
        "  )\n",
        "\n",
        "  print(\"Use o mouse para interagir com a figura gerada:\")\n",
        "  print(\"Posição do efetuador final: x = [%.1f] e y =[%.1f]\" %  (L3[0], L3[1]))\n",
        "  fig.show()\n",
        "\n",
        "######################################################################################\n",
        "############################ APLICANDO A CINEMÁTICA DIRETA ###########################\n",
        "######################################################################################\n",
        "[a1, a2, a3] = [1, 1, 1] #Tamanho das juntas\n",
        "[q1, q2, q3] = [0, 45, 45] # Ângulo das juntas\n",
        "\n",
        "plot2jrobot(q1, a1, q2, a2, q3, a3)"
      ]
    },
    {
      "cell_type": "markdown",
      "metadata": {
        "id": "vLTwxiA4eRs6"
      },
      "source": [
        "# **Exercício de fixação**\n",
        "\n",
        "* Modifique o **Exemplo 01** para o manipulador planar de 3 juntas."
      ]
    }
  ],
  "metadata": {
    "colab": {
      "collapsed_sections": [],
      "name": "RI - Aula 05 - Cinemática Direta - Visualização do Manipulador Planar.ipynb",
      "provenance": []
    },
    "interpreter": {
      "hash": "4333fd1fe43e466f515c3a6ba90777eaed51e6920feedfbbb88898e3a37377d4"
    },
    "kernelspec": {
      "display_name": "Python 3.9.7 ('base')",
      "language": "python",
      "name": "python3"
    },
    "language_info": {
      "name": "python",
      "version": "3.9.7"
    }
  },
  "nbformat": 4,
  "nbformat_minor": 0
}
