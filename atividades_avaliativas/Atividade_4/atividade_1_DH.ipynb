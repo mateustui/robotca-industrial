{
  "cells": [
    {
      "cell_type": "markdown",
      "metadata": {
        "id": "d58VJrzsSQlN"
      },
      "source": [
        "# **Robótica Industrial - Aula 05 - Cinemática Direta - Convenção de Denavit e Hartenberg** \n",
        "Prof. Lucas Vago Santana\n",
        "\n",
        "*Obs: O objetivo do código é ser didático. Portanto, ele pode não possuir a implementação mais eficiente.*"
      ]
    },
    {
      "cell_type": "markdown",
      "metadata": {
        "id": "Hee1bhba6zKz"
      },
      "source": [
        "# **Atividade 1:** \n",
        "* Visualização de um punho esférico utilizando conversão DH."
      ]
    },
    {
      "cell_type": "code",
      "execution_count": 1,
      "metadata": {
        "colab": {
          "base_uri": "https://localhost:8080/",
          "height": 452
        },
        "id": "fq9vRWHG60Z4",
        "outputId": "2d67f59a-c71b-4b8b-9da6-0484d01e6113"
      },
      "outputs": [
        {
          "name": "stdout",
          "output_type": "stream",
          "text": [
            "Use o mouse para interagir com a figura gerada:\n",
            "Posição do efetuador final: x = [0.7], y =[-0.0] e z =[1.7]\n"
          ]
        },
        {
          "data": {
            "application/vnd.plotly.v1+json": {
              "config": {
                "plotlyServerURL": "https://plot.ly"
              },
              "data": [
                {
                  "line": {
                    "color": "blue",
                    "width": 20
                  },
                  "mode": "markers+lines+text",
                  "name": "L1",
                  "text": [
                    "",
                    ""
                  ],
                  "type": "scatter3d",
                  "x": [
                    0,
                    0
                  ],
                  "y": [
                    0,
                    0
                  ],
                  "z": [
                    0,
                    1
                  ]
                },
                {
                  "line": {
                    "color": "red",
                    "width": 20
                  },
                  "mode": "markers+lines+text",
                  "name": "L2",
                  "type": "scatter3d",
                  "x": [
                    0,
                    0
                  ],
                  "y": [
                    0,
                    0
                  ],
                  "z": [
                    1,
                    1
                  ]
                },
                {
                  "line": {
                    "color": "green",
                    "width": 20
                  },
                  "mode": "markers+lines+text",
                  "name": "L2",
                  "type": "scatter3d",
                  "x": [
                    0,
                    0.7071067811865476
                  ],
                  "y": [
                    0,
                    -1.7934537145593002e-17
                  ],
                  "z": [
                    1,
                    1.7071067811865475
                  ]
                },
                {
                  "line": {
                    "color": "darkblue",
                    "width": 5
                  },
                  "mode": "lines+text",
                  "name": "Ex1",
                  "text": [
                    "",
                    "x1"
                  ],
                  "textfont": {
                    "color": "darkblue"
                  },
                  "type": "scatter3d",
                  "x": [
                    0,
                    0.5
                  ],
                  "y": [
                    0,
                    0
                  ],
                  "z": [
                    0,
                    0
                  ]
                },
                {
                  "line": {
                    "color": "darkred",
                    "width": 5
                  },
                  "mode": "lines+text",
                  "name": "Ey1",
                  "text": [
                    "",
                    "y1"
                  ],
                  "textfont": {
                    "color": "darkred"
                  },
                  "type": "scatter3d",
                  "x": [
                    0,
                    0
                  ],
                  "y": [
                    0,
                    0.5
                  ],
                  "z": [
                    0,
                    0
                  ]
                },
                {
                  "line": {
                    "color": "darkgreen",
                    "width": 5
                  },
                  "mode": "lines+text",
                  "name": "Ez1",
                  "text": [
                    "",
                    "z1"
                  ],
                  "textfont": {
                    "color": "darkgreen"
                  },
                  "type": "scatter3d",
                  "x": [
                    0,
                    0
                  ],
                  "y": [
                    0,
                    0
                  ],
                  "z": [
                    0,
                    0.5
                  ]
                },
                {
                  "line": {
                    "color": "darkblue",
                    "width": 5
                  },
                  "mode": "lines+text",
                  "name": "Ex2",
                  "text": [
                    "",
                    "x2"
                  ],
                  "textfont": {
                    "color": "darkblue"
                  },
                  "type": "scatter3d",
                  "x": [
                    0,
                    0.5
                  ],
                  "y": [
                    0,
                    0
                  ],
                  "z": [
                    1,
                    1
                  ]
                },
                {
                  "line": {
                    "color": "darkred",
                    "width": 5
                  },
                  "mode": "lines+text",
                  "name": "Ey2",
                  "text": [
                    "",
                    "y2"
                  ],
                  "textfont": {
                    "color": "darkred"
                  },
                  "type": "scatter3d",
                  "x": [
                    0,
                    0
                  ],
                  "y": [
                    0,
                    3.061616997868383e-17
                  ],
                  "z": [
                    1,
                    1.5
                  ]
                },
                {
                  "line": {
                    "color": "darkgreen",
                    "width": 5
                  },
                  "mode": "lines+text",
                  "name": "Ez2",
                  "text": [
                    "",
                    "z2"
                  ],
                  "textfont": {
                    "color": "darkgreen"
                  },
                  "type": "scatter3d",
                  "x": [
                    0,
                    0
                  ],
                  "y": [
                    0,
                    -0.5
                  ],
                  "z": [
                    1,
                    1
                  ]
                },
                {
                  "line": {
                    "color": "darkblue",
                    "width": 5
                  },
                  "mode": "lines+text",
                  "name": "Ex3",
                  "text": [
                    "",
                    "x3"
                  ],
                  "textfont": {
                    "color": "darkblue"
                  },
                  "type": "scatter3d",
                  "x": [
                    0,
                    -0.35355339059327373
                  ],
                  "y": [
                    0,
                    2.1648901405887335e-17
                  ],
                  "z": [
                    1,
                    1.3535533905932737
                  ]
                },
                {
                  "line": {
                    "color": "darkred",
                    "width": 5
                  },
                  "mode": "lines+text",
                  "name": "Ey3",
                  "text": [
                    "",
                    "y3"
                  ],
                  "textfont": {
                    "color": "darkred"
                  },
                  "type": "scatter3d",
                  "x": [
                    0,
                    -2.1648901405887335e-17
                  ],
                  "y": [
                    0,
                    -0.5
                  ],
                  "z": [
                    1,
                    1
                  ]
                },
                {
                  "line": {
                    "color": "darkgreen",
                    "width": 5
                  },
                  "mode": "lines+text",
                  "name": "Ez3",
                  "text": [
                    "",
                    "z3"
                  ],
                  "textfont": {
                    "color": "darkgreen"
                  },
                  "type": "scatter3d",
                  "x": [
                    0,
                    0.3535533905932738
                  ],
                  "y": [
                    0,
                    -8.967268572796501e-18
                  ],
                  "z": [
                    1,
                    1.3535533905932737
                  ]
                },
                {
                  "line": {
                    "color": "darkblue",
                    "width": 5
                  },
                  "mode": "lines+text",
                  "name": "Exe",
                  "text": [
                    "",
                    "xe"
                  ],
                  "textfont": {
                    "color": "darkblue"
                  },
                  "type": "scatter3d",
                  "x": [
                    0.7071067811865476,
                    0.4571067811865476
                  ],
                  "y": [
                    -1.7934537145593002e-17,
                    -0.3535533905932738
                  ],
                  "z": [
                    1.7071067811865475,
                    1.9571067811865475
                  ]
                },
                {
                  "line": {
                    "color": "darkred",
                    "width": 5
                  },
                  "mode": "lines+text",
                  "name": "Eye",
                  "text": [
                    "",
                    "ye"
                  ],
                  "textfont": {
                    "color": "darkred"
                  },
                  "type": "scatter3d",
                  "x": [
                    0.7071067811865476,
                    0.9571067811865476
                  ],
                  "y": [
                    -1.7934537145593002e-17,
                    -0.3535533905932738
                  ],
                  "z": [
                    1.7071067811865475,
                    1.4571067811865475
                  ]
                },
                {
                  "line": {
                    "color": "darkgreen",
                    "width": 5
                  },
                  "mode": "lines+text",
                  "name": "Eze",
                  "text": [
                    "",
                    "ze"
                  ],
                  "textfont": {
                    "color": "darkgreen"
                  },
                  "type": "scatter3d",
                  "x": [
                    0.7071067811865476,
                    1.0606601717798214
                  ],
                  "y": [
                    -1.7934537145593002e-17,
                    -2.6901805718389494e-17
                  ],
                  "z": [
                    1.7071067811865475,
                    2.060660171779821
                  ]
                }
              ],
              "layout": {
                "autosize": false,
                "height": 400,
                "margin": {
                  "b": 0,
                  "l": 0,
                  "r": 0,
                  "t": 0
                },
                "scene": {
                  "aspectmode": "cube",
                  "xaxis": {
                    "range": [
                      -2.5,
                      2.5
                    ]
                  },
                  "yaxis": {
                    "range": [
                      -2.5,
                      2.5
                    ]
                  },
                  "zaxis": {
                    "range": [
                      -2.5,
                      2.5
                    ]
                  }
                },
                "showlegend": false,
                "template": {
                  "data": {
                    "bar": [
                      {
                        "error_x": {
                          "color": "#2a3f5f"
                        },
                        "error_y": {
                          "color": "#2a3f5f"
                        },
                        "marker": {
                          "line": {
                            "color": "#E5ECF6",
                            "width": 0.5
                          },
                          "pattern": {
                            "fillmode": "overlay",
                            "size": 10,
                            "solidity": 0.2
                          }
                        },
                        "type": "bar"
                      }
                    ],
                    "barpolar": [
                      {
                        "marker": {
                          "line": {
                            "color": "#E5ECF6",
                            "width": 0.5
                          },
                          "pattern": {
                            "fillmode": "overlay",
                            "size": 10,
                            "solidity": 0.2
                          }
                        },
                        "type": "barpolar"
                      }
                    ],
                    "carpet": [
                      {
                        "aaxis": {
                          "endlinecolor": "#2a3f5f",
                          "gridcolor": "white",
                          "linecolor": "white",
                          "minorgridcolor": "white",
                          "startlinecolor": "#2a3f5f"
                        },
                        "baxis": {
                          "endlinecolor": "#2a3f5f",
                          "gridcolor": "white",
                          "linecolor": "white",
                          "minorgridcolor": "white",
                          "startlinecolor": "#2a3f5f"
                        },
                        "type": "carpet"
                      }
                    ],
                    "choropleth": [
                      {
                        "colorbar": {
                          "outlinewidth": 0,
                          "ticks": ""
                        },
                        "type": "choropleth"
                      }
                    ],
                    "contour": [
                      {
                        "colorbar": {
                          "outlinewidth": 0,
                          "ticks": ""
                        },
                        "colorscale": [
                          [
                            0,
                            "#0d0887"
                          ],
                          [
                            0.1111111111111111,
                            "#46039f"
                          ],
                          [
                            0.2222222222222222,
                            "#7201a8"
                          ],
                          [
                            0.3333333333333333,
                            "#9c179e"
                          ],
                          [
                            0.4444444444444444,
                            "#bd3786"
                          ],
                          [
                            0.5555555555555556,
                            "#d8576b"
                          ],
                          [
                            0.6666666666666666,
                            "#ed7953"
                          ],
                          [
                            0.7777777777777778,
                            "#fb9f3a"
                          ],
                          [
                            0.8888888888888888,
                            "#fdca26"
                          ],
                          [
                            1,
                            "#f0f921"
                          ]
                        ],
                        "type": "contour"
                      }
                    ],
                    "contourcarpet": [
                      {
                        "colorbar": {
                          "outlinewidth": 0,
                          "ticks": ""
                        },
                        "type": "contourcarpet"
                      }
                    ],
                    "heatmap": [
                      {
                        "colorbar": {
                          "outlinewidth": 0,
                          "ticks": ""
                        },
                        "colorscale": [
                          [
                            0,
                            "#0d0887"
                          ],
                          [
                            0.1111111111111111,
                            "#46039f"
                          ],
                          [
                            0.2222222222222222,
                            "#7201a8"
                          ],
                          [
                            0.3333333333333333,
                            "#9c179e"
                          ],
                          [
                            0.4444444444444444,
                            "#bd3786"
                          ],
                          [
                            0.5555555555555556,
                            "#d8576b"
                          ],
                          [
                            0.6666666666666666,
                            "#ed7953"
                          ],
                          [
                            0.7777777777777778,
                            "#fb9f3a"
                          ],
                          [
                            0.8888888888888888,
                            "#fdca26"
                          ],
                          [
                            1,
                            "#f0f921"
                          ]
                        ],
                        "type": "heatmap"
                      }
                    ],
                    "heatmapgl": [
                      {
                        "colorbar": {
                          "outlinewidth": 0,
                          "ticks": ""
                        },
                        "colorscale": [
                          [
                            0,
                            "#0d0887"
                          ],
                          [
                            0.1111111111111111,
                            "#46039f"
                          ],
                          [
                            0.2222222222222222,
                            "#7201a8"
                          ],
                          [
                            0.3333333333333333,
                            "#9c179e"
                          ],
                          [
                            0.4444444444444444,
                            "#bd3786"
                          ],
                          [
                            0.5555555555555556,
                            "#d8576b"
                          ],
                          [
                            0.6666666666666666,
                            "#ed7953"
                          ],
                          [
                            0.7777777777777778,
                            "#fb9f3a"
                          ],
                          [
                            0.8888888888888888,
                            "#fdca26"
                          ],
                          [
                            1,
                            "#f0f921"
                          ]
                        ],
                        "type": "heatmapgl"
                      }
                    ],
                    "histogram": [
                      {
                        "marker": {
                          "pattern": {
                            "fillmode": "overlay",
                            "size": 10,
                            "solidity": 0.2
                          }
                        },
                        "type": "histogram"
                      }
                    ],
                    "histogram2d": [
                      {
                        "colorbar": {
                          "outlinewidth": 0,
                          "ticks": ""
                        },
                        "colorscale": [
                          [
                            0,
                            "#0d0887"
                          ],
                          [
                            0.1111111111111111,
                            "#46039f"
                          ],
                          [
                            0.2222222222222222,
                            "#7201a8"
                          ],
                          [
                            0.3333333333333333,
                            "#9c179e"
                          ],
                          [
                            0.4444444444444444,
                            "#bd3786"
                          ],
                          [
                            0.5555555555555556,
                            "#d8576b"
                          ],
                          [
                            0.6666666666666666,
                            "#ed7953"
                          ],
                          [
                            0.7777777777777778,
                            "#fb9f3a"
                          ],
                          [
                            0.8888888888888888,
                            "#fdca26"
                          ],
                          [
                            1,
                            "#f0f921"
                          ]
                        ],
                        "type": "histogram2d"
                      }
                    ],
                    "histogram2dcontour": [
                      {
                        "colorbar": {
                          "outlinewidth": 0,
                          "ticks": ""
                        },
                        "colorscale": [
                          [
                            0,
                            "#0d0887"
                          ],
                          [
                            0.1111111111111111,
                            "#46039f"
                          ],
                          [
                            0.2222222222222222,
                            "#7201a8"
                          ],
                          [
                            0.3333333333333333,
                            "#9c179e"
                          ],
                          [
                            0.4444444444444444,
                            "#bd3786"
                          ],
                          [
                            0.5555555555555556,
                            "#d8576b"
                          ],
                          [
                            0.6666666666666666,
                            "#ed7953"
                          ],
                          [
                            0.7777777777777778,
                            "#fb9f3a"
                          ],
                          [
                            0.8888888888888888,
                            "#fdca26"
                          ],
                          [
                            1,
                            "#f0f921"
                          ]
                        ],
                        "type": "histogram2dcontour"
                      }
                    ],
                    "mesh3d": [
                      {
                        "colorbar": {
                          "outlinewidth": 0,
                          "ticks": ""
                        },
                        "type": "mesh3d"
                      }
                    ],
                    "parcoords": [
                      {
                        "line": {
                          "colorbar": {
                            "outlinewidth": 0,
                            "ticks": ""
                          }
                        },
                        "type": "parcoords"
                      }
                    ],
                    "pie": [
                      {
                        "automargin": true,
                        "type": "pie"
                      }
                    ],
                    "scatter": [
                      {
                        "fillpattern": {
                          "fillmode": "overlay",
                          "size": 10,
                          "solidity": 0.2
                        },
                        "type": "scatter"
                      }
                    ],
                    "scatter3d": [
                      {
                        "line": {
                          "colorbar": {
                            "outlinewidth": 0,
                            "ticks": ""
                          }
                        },
                        "marker": {
                          "colorbar": {
                            "outlinewidth": 0,
                            "ticks": ""
                          }
                        },
                        "type": "scatter3d"
                      }
                    ],
                    "scattercarpet": [
                      {
                        "marker": {
                          "colorbar": {
                            "outlinewidth": 0,
                            "ticks": ""
                          }
                        },
                        "type": "scattercarpet"
                      }
                    ],
                    "scattergeo": [
                      {
                        "marker": {
                          "colorbar": {
                            "outlinewidth": 0,
                            "ticks": ""
                          }
                        },
                        "type": "scattergeo"
                      }
                    ],
                    "scattergl": [
                      {
                        "marker": {
                          "colorbar": {
                            "outlinewidth": 0,
                            "ticks": ""
                          }
                        },
                        "type": "scattergl"
                      }
                    ],
                    "scattermapbox": [
                      {
                        "marker": {
                          "colorbar": {
                            "outlinewidth": 0,
                            "ticks": ""
                          }
                        },
                        "type": "scattermapbox"
                      }
                    ],
                    "scatterpolar": [
                      {
                        "marker": {
                          "colorbar": {
                            "outlinewidth": 0,
                            "ticks": ""
                          }
                        },
                        "type": "scatterpolar"
                      }
                    ],
                    "scatterpolargl": [
                      {
                        "marker": {
                          "colorbar": {
                            "outlinewidth": 0,
                            "ticks": ""
                          }
                        },
                        "type": "scatterpolargl"
                      }
                    ],
                    "scatterternary": [
                      {
                        "marker": {
                          "colorbar": {
                            "outlinewidth": 0,
                            "ticks": ""
                          }
                        },
                        "type": "scatterternary"
                      }
                    ],
                    "surface": [
                      {
                        "colorbar": {
                          "outlinewidth": 0,
                          "ticks": ""
                        },
                        "colorscale": [
                          [
                            0,
                            "#0d0887"
                          ],
                          [
                            0.1111111111111111,
                            "#46039f"
                          ],
                          [
                            0.2222222222222222,
                            "#7201a8"
                          ],
                          [
                            0.3333333333333333,
                            "#9c179e"
                          ],
                          [
                            0.4444444444444444,
                            "#bd3786"
                          ],
                          [
                            0.5555555555555556,
                            "#d8576b"
                          ],
                          [
                            0.6666666666666666,
                            "#ed7953"
                          ],
                          [
                            0.7777777777777778,
                            "#fb9f3a"
                          ],
                          [
                            0.8888888888888888,
                            "#fdca26"
                          ],
                          [
                            1,
                            "#f0f921"
                          ]
                        ],
                        "type": "surface"
                      }
                    ],
                    "table": [
                      {
                        "cells": {
                          "fill": {
                            "color": "#EBF0F8"
                          },
                          "line": {
                            "color": "white"
                          }
                        },
                        "header": {
                          "fill": {
                            "color": "#C8D4E3"
                          },
                          "line": {
                            "color": "white"
                          }
                        },
                        "type": "table"
                      }
                    ]
                  },
                  "layout": {
                    "annotationdefaults": {
                      "arrowcolor": "#2a3f5f",
                      "arrowhead": 0,
                      "arrowwidth": 1
                    },
                    "autotypenumbers": "strict",
                    "coloraxis": {
                      "colorbar": {
                        "outlinewidth": 0,
                        "ticks": ""
                      }
                    },
                    "colorscale": {
                      "diverging": [
                        [
                          0,
                          "#8e0152"
                        ],
                        [
                          0.1,
                          "#c51b7d"
                        ],
                        [
                          0.2,
                          "#de77ae"
                        ],
                        [
                          0.3,
                          "#f1b6da"
                        ],
                        [
                          0.4,
                          "#fde0ef"
                        ],
                        [
                          0.5,
                          "#f7f7f7"
                        ],
                        [
                          0.6,
                          "#e6f5d0"
                        ],
                        [
                          0.7,
                          "#b8e186"
                        ],
                        [
                          0.8,
                          "#7fbc41"
                        ],
                        [
                          0.9,
                          "#4d9221"
                        ],
                        [
                          1,
                          "#276419"
                        ]
                      ],
                      "sequential": [
                        [
                          0,
                          "#0d0887"
                        ],
                        [
                          0.1111111111111111,
                          "#46039f"
                        ],
                        [
                          0.2222222222222222,
                          "#7201a8"
                        ],
                        [
                          0.3333333333333333,
                          "#9c179e"
                        ],
                        [
                          0.4444444444444444,
                          "#bd3786"
                        ],
                        [
                          0.5555555555555556,
                          "#d8576b"
                        ],
                        [
                          0.6666666666666666,
                          "#ed7953"
                        ],
                        [
                          0.7777777777777778,
                          "#fb9f3a"
                        ],
                        [
                          0.8888888888888888,
                          "#fdca26"
                        ],
                        [
                          1,
                          "#f0f921"
                        ]
                      ],
                      "sequentialminus": [
                        [
                          0,
                          "#0d0887"
                        ],
                        [
                          0.1111111111111111,
                          "#46039f"
                        ],
                        [
                          0.2222222222222222,
                          "#7201a8"
                        ],
                        [
                          0.3333333333333333,
                          "#9c179e"
                        ],
                        [
                          0.4444444444444444,
                          "#bd3786"
                        ],
                        [
                          0.5555555555555556,
                          "#d8576b"
                        ],
                        [
                          0.6666666666666666,
                          "#ed7953"
                        ],
                        [
                          0.7777777777777778,
                          "#fb9f3a"
                        ],
                        [
                          0.8888888888888888,
                          "#fdca26"
                        ],
                        [
                          1,
                          "#f0f921"
                        ]
                      ]
                    },
                    "colorway": [
                      "#636efa",
                      "#EF553B",
                      "#00cc96",
                      "#ab63fa",
                      "#FFA15A",
                      "#19d3f3",
                      "#FF6692",
                      "#B6E880",
                      "#FF97FF",
                      "#FECB52"
                    ],
                    "font": {
                      "color": "#2a3f5f"
                    },
                    "geo": {
                      "bgcolor": "white",
                      "lakecolor": "white",
                      "landcolor": "#E5ECF6",
                      "showlakes": true,
                      "showland": true,
                      "subunitcolor": "white"
                    },
                    "hoverlabel": {
                      "align": "left"
                    },
                    "hovermode": "closest",
                    "mapbox": {
                      "style": "light"
                    },
                    "paper_bgcolor": "white",
                    "plot_bgcolor": "#E5ECF6",
                    "polar": {
                      "angularaxis": {
                        "gridcolor": "white",
                        "linecolor": "white",
                        "ticks": ""
                      },
                      "bgcolor": "#E5ECF6",
                      "radialaxis": {
                        "gridcolor": "white",
                        "linecolor": "white",
                        "ticks": ""
                      }
                    },
                    "scene": {
                      "xaxis": {
                        "backgroundcolor": "#E5ECF6",
                        "gridcolor": "white",
                        "gridwidth": 2,
                        "linecolor": "white",
                        "showbackground": true,
                        "ticks": "",
                        "zerolinecolor": "white"
                      },
                      "yaxis": {
                        "backgroundcolor": "#E5ECF6",
                        "gridcolor": "white",
                        "gridwidth": 2,
                        "linecolor": "white",
                        "showbackground": true,
                        "ticks": "",
                        "zerolinecolor": "white"
                      },
                      "zaxis": {
                        "backgroundcolor": "#E5ECF6",
                        "gridcolor": "white",
                        "gridwidth": 2,
                        "linecolor": "white",
                        "showbackground": true,
                        "ticks": "",
                        "zerolinecolor": "white"
                      }
                    },
                    "shapedefaults": {
                      "line": {
                        "color": "#2a3f5f"
                      }
                    },
                    "ternary": {
                      "aaxis": {
                        "gridcolor": "white",
                        "linecolor": "white",
                        "ticks": ""
                      },
                      "baxis": {
                        "gridcolor": "white",
                        "linecolor": "white",
                        "ticks": ""
                      },
                      "bgcolor": "#E5ECF6",
                      "caxis": {
                        "gridcolor": "white",
                        "linecolor": "white",
                        "ticks": ""
                      }
                    },
                    "title": {
                      "x": 0.05
                    },
                    "xaxis": {
                      "automargin": true,
                      "gridcolor": "white",
                      "linecolor": "white",
                      "ticks": "",
                      "title": {
                        "standoff": 15
                      },
                      "zerolinecolor": "white",
                      "zerolinewidth": 2
                    },
                    "yaxis": {
                      "automargin": true,
                      "gridcolor": "white",
                      "linecolor": "white",
                      "ticks": "",
                      "title": {
                        "standoff": 15
                      },
                      "zerolinecolor": "white",
                      "zerolinewidth": 2
                    }
                  }
                },
                "width": 400
              }
            }
          },
          "metadata": {},
          "output_type": "display_data"
        }
      ],
      "source": [
        "import plotly.graph_objects as go\n",
        "import numpy as np\n",
        "\n",
        "######################################################################################\n",
        "############################ FUNÇÕES DE TRANSFORMAÇÃO ################################\n",
        "######################################################################################\n",
        "#Cria tranformação homogênea a partir dos parâmetros de Denavit-Hartenberg\n",
        "def t_DH(theta, d, a, alpha):\n",
        "  theta = np.radians(theta)  \n",
        "  alpha = np.radians(alpha)  \n",
        "  ct = np.cos(theta)\n",
        "  st = np.sin(theta)\n",
        "  ca = np.cos(alpha)\n",
        "  sa = np.sin(alpha)\n",
        "  \n",
        "  Rz =  np.array((  (ct, -st, 0, 0), \n",
        "                    (st,  ct, 0, 0),\n",
        "                    ( 0,   0, 1, 0),\n",
        "                    ( 0,   0, 0, 1) ))\n",
        "  \n",
        "  Tz = np.array((   (1, 0, 0, 0), \n",
        "                    (0, 1, 0, 0),\n",
        "                    (0, 0, 1, d),\n",
        "                    (0, 0, 0, 1) ))\n",
        "\n",
        "  Rx =  np.array((  (1,  0,   0, 0), \n",
        "                    (0, ca, -sa, 0),\n",
        "                    (0, sa,  ca, 0),\n",
        "                    (0,  0,   0, 1) ))\n",
        "  \n",
        "  Tx = np.array((   (1, 0, 0, a), \n",
        "                    (0, 1, 0, 0),\n",
        "                    (0, 0, 1, 0),\n",
        "                    (0, 0, 0, 1) ))\n",
        "  \n",
        "  return np.linalg.multi_dot([Rz, Tz, Tx, Rx])\n",
        "\n",
        "######################################################################################\n",
        "############################### PLOT DO ROBÔ #########################################\n",
        "######################################################################################\n",
        "def plot3jrobot(q1, a1, q2, a2, q3, a3):\n",
        "  \"\"\"\n",
        "    Criação das coordenadas dos elos do robô, baseando-se nos parâmetros DH\n",
        "    Parâmetros DH:\n",
        "            theta       d     a     alpha\n",
        "    1            q1     a1    0     90°\n",
        "    2        90°+q2     0     a2    90°\n",
        "    3           +q3     0     a3    0°\n",
        "  \"\"\"\n",
        "  T_DH1 = t_DH(q1, a1,  0, 90) # Transformação homogênea do Elo 1\n",
        "  T_DH2 = t_DH(90+q2,  0, a2, 90) # Transformação homogênea do Elo 2\n",
        "  T_DH3 = t_DH(q3,  a3, 0, 0) # Transformação homogênea do Elo 3\n",
        "  \n",
        "  O1 = np.array((0,0,0,1)) # Origem no Elo 1\n",
        "\n",
        "  L1 = np.linalg.multi_dot([T_DH1, O1]) # Coordenadas finais do Elo 1. Obtidas projetando O1 através da  duas transformações\n",
        "  L2 = np.linalg.multi_dot([T_DH1, T_DH2, O1]) # Coordenadas finais do Elo 2. Obtidas projetando O1 através das duas transformações\n",
        "  L3 = np.linalg.multi_dot([T_DH1, T_DH2, T_DH3, O1]) # Coordenadas finais do Elo 2. Obtidas projetando O1 através das duas transformações\n",
        "\n",
        "  X1 = np.zeros((2, 3))\n",
        "  X2 = np.zeros((2, 3))\n",
        "  X3 = np.zeros((2, 3))\n",
        "  \n",
        "  X1[0,:] = O1[:3] #Pega os três primeiros elementos apenas\n",
        "  X1[1,:] = L1[:3]\n",
        "  \n",
        "  X2[0,:] = L1[:3] #Pega os três primeiros elementos apenas. Origem Elo 2 é L1\n",
        "  X2[1,:] = L2[:3]\n",
        "\n",
        "  X3[0,:] = L2[:3] #Pega os três primeiros elementos apenas. Origem Elo 2 é L1\n",
        "  X3[1,:] = L3[:3]\n",
        "\n",
        "  Vx1 = np.array((0.5,0,0,1))\n",
        "  Vy1 = np.array((0,0.5,0,1))#np.linalg.multi_dot([T_DH1, T_DH2, T_DH3, np.array((0,0.5,0,1))]) #Apenas plota o eixo y de coordenadas no efetuador final\n",
        "  Vz1 = np.array((0,0,0.5,1))#np.linalg.multi_dot([T_DH1, T_DH2, T_DH3, np.array((0,0,0.5,1))]) #Apenas plota o eixo z de coordenadas no efetuador final\n",
        "  \n",
        "  Vx2 = np.linalg.multi_dot([T_DH1, Vx1]) #Plota o eixo x de coordenadas no link 1\n",
        "  Vy2 = np.linalg.multi_dot([T_DH1, Vy1]) #Plota o eixo y de coordenadas no link 1\n",
        "  Vz2 = np.linalg.multi_dot([T_DH1, Vz1]) #Plota o eixo z de coordenadas no link 1\n",
        "\n",
        "  Vx3 = np.linalg.multi_dot([T_DH1, T_DH2, Vx1]) #Plota o eixo x de coordenadas no link 2\n",
        "  Vy3 = np.linalg.multi_dot([T_DH1, T_DH2, Vy1]) #Plota o eixo y de coordenadas no link 2\n",
        "  Vz3 = np.linalg.multi_dot([T_DH1, T_DH2, Vz1]) #Plota o eixo z de coordenadas no link 2\n",
        "\n",
        "  Vxe = np.linalg.multi_dot([T_DH1, T_DH2, T_DH3, Vx1]) #Plota o eixo x de coordenadas no link 3\n",
        "  Vye = np.linalg.multi_dot([T_DH1, T_DH2, T_DH3, Vy1]) #Plota o eixo y de coordenadas no link 3\n",
        "  Vze = np.linalg.multi_dot([T_DH1, T_DH2, T_DH3, Vz1]) #Plota o eixo z de coordenadas no link 3\n",
        "\n",
        "  EX1 = np.zeros((2, 3))\n",
        "  EY1 = np.zeros((2, 3))\n",
        "  EZ1 = np.zeros((2, 3))\n",
        "\n",
        "  EX2 = np.zeros((2, 3))\n",
        "  EY2 = np.zeros((2, 3))\n",
        "  EZ2 = np.zeros((2, 3))\n",
        "\n",
        "  EX3 = np.zeros((2, 3))\n",
        "  EY3 = np.zeros((2, 3))\n",
        "  EZ3 = np.zeros((2, 3))\n",
        "  \n",
        "  EXe = np.zeros((2, 3))\n",
        "  EYe = np.zeros((2, 3))\n",
        "  EZe = np.zeros((2, 3))\n",
        "\n",
        "  EX1[0,:] = O1[:3]\n",
        "  EX1[1,:] = Vx1[:3] \n",
        "  EY1[0,:] = O1[:3]\n",
        "  EY1[1,:] = Vy1[:3]\n",
        "  EZ1[0,:] = O1[:3]\n",
        "  EZ1[1,:] = Vz1[:3]\n",
        "\n",
        "  EX2[0,:] = L1[:3]\n",
        "  EX2[1,:] = Vx2[:3]\n",
        "  EY2[0,:] = L1[:3]\n",
        "  EY2[1,:] = Vy2[:3]\n",
        "  EZ2[0,:] = L1[:3]\n",
        "  EZ2[1,:] = Vz2[:3]\n",
        "\n",
        "  EX3[0,:] = L2[:3]\n",
        "  EX3[1,:] = Vx3[:3]\n",
        "  EY3[0,:] = L2[:3]\n",
        "  EY3[1,:] = Vy3[:3]\n",
        "  EZ3[0,:] = L2[:3]\n",
        "  EZ3[1,:] = Vz3[:3]\n",
        "\n",
        "  EXe[0,:] = L3[:3]\n",
        "  EXe[1,:] = Vxe[:3]\n",
        "  EYe[0,:] = L3[:3]\n",
        "  EYe[1,:] = Vye[:3]\n",
        "  EZe[0,:] = L3[:3]\n",
        "  EZe[1,:] = Vze[:3]\n",
        "\n",
        "  fig = go.Figure()\n",
        "\n",
        "  #Plot dos elos\n",
        "  fig.add_trace(go.Scatter3d(x=X1[:,0], y=X1[:,1], z=X1[:,2], mode='markers+lines+text',text=[\"\",\"\"], name='L1', line=dict(color='blue',width=20)))\n",
        "  fig.add_trace(go.Scatter3d(x=X2[:,0], y=X2[:,1], z=X2[:,2], mode='markers+lines+text', name='L2', line=dict(color='red',width=20)))\n",
        "  fig.add_trace(go.Scatter3d(x=X3[:,0], y=X3[:,1], z=X3[:,2], mode='markers+lines+text', name='L2', line=dict(color='green',width=20)))\n",
        "\n",
        "  # Plot dos eixos x, y e z no início do elo 1 (origem)\n",
        "  fig.add_trace(go.Scatter3d(x=EX1[:,0], y=EX1[:,1], z=EX1[:,2], mode='lines+text', text=[\"\",\"x1\"], textfont=dict(color=\"darkblue\"),name='Ex1', line=dict(color='darkblue',width=5)))\n",
        "  fig.add_trace(go.Scatter3d(x=EY1[:,0], y=EY1[:,1], z=EY1[:,2], mode='lines+text', text=[\"\",\"y1\"], textfont=dict(color=\"darkred\"),name='Ey1', line=dict(color='darkred',width=5)))\n",
        "  fig.add_trace(go.Scatter3d(x=EZ1[:,0], y=EZ1[:,1], z=EZ1[:,2], mode='lines+text', text=[\"\",\"z1\"], textfont=dict(color=\"darkgreen\"),name='Ez1', line=dict(color='darkgreen',width=5)))\n",
        "  \n",
        "  # Plot dos eixos x, y e z no início do elo 2\n",
        "  fig.add_trace(go.Scatter3d(x=EX2[:,0], y=EX2[:,1], z=EX2[:,2], mode='lines+text', text=[\"\",\"x2\"], textfont=dict(color=\"darkblue\"),name='Ex2', line=dict(color='darkblue',width=5)))\n",
        "  fig.add_trace(go.Scatter3d(x=EY2[:,0], y=EY2[:,1], z=EY2[:,2], mode='lines+text', text=[\"\",\"y2\"], textfont=dict(color=\"darkred\"),name='Ey2', line=dict(color='darkred',width=5)))\n",
        "  fig.add_trace(go.Scatter3d(x=EZ2[:,0], y=EZ2[:,1], z=EZ2[:,2], mode='lines+text', text=[\"\",\"z2\"], textfont=dict(color=\"darkgreen\"),name='Ez2', line=dict(color='darkgreen',width=5)))\n",
        "\n",
        "  # Plot dos eixos x, y e z no início do elo 3\n",
        "  fig.add_trace(go.Scatter3d(x=EX3[:,0], y=EX3[:,1], z=EX3[:,2], mode='lines+text', text=[\"\",\"x3\"], textfont=dict(color=\"darkblue\"),name='Ex3', line=dict(color='darkblue',width=5)))\n",
        "  fig.add_trace(go.Scatter3d(x=EY3[:,0], y=EY3[:,1], z=EY3[:,2], mode='lines+text', text=[\"\",\"y3\"], textfont=dict(color=\"darkred\"),name='Ey3', line=dict(color='darkred',width=5)))\n",
        "  fig.add_trace(go.Scatter3d(x=EZ3[:,0], y=EZ3[:,1], z=EZ3[:,2], mode='lines+text', text=[\"\",\"z3\"], textfont=dict(color=\"darkgreen\"),name='Ez3', line=dict(color='darkgreen',width=5)))\n",
        "\n",
        "  # Plot dos eixos x, y e z na início do elo 4\n",
        "  fig.add_trace(go.Scatter3d(x=EXe[:,0], y=EXe[:,1], z=EXe[:,2], mode='lines+text', text=[\"\",\"xe\"], textfont=dict(color=\"darkblue\"),name='Exe', line=dict(color='darkblue',width=5)))\n",
        "  fig.add_trace(go.Scatter3d(x=EYe[:,0], y=EYe[:,1], z=EYe[:,2], mode='lines+text', text=[\"\",\"ye\"], textfont=dict(color=\"darkred\"),name='Eye', line=dict(color='darkred',width=5)))\n",
        "  fig.add_trace(go.Scatter3d(x=EZe[:,0], y=EZe[:,1], z=EZe[:,2], mode='lines+text', text=[\"\",\"ze\"], textfont=dict(color=\"darkgreen\"),name='Eze', line=dict(color='darkgreen',width=5)))\n",
        "  \n",
        "  #Configuração de layout da imagem gerada\n",
        "  fig.update_layout(\n",
        "      autosize=False,\n",
        "      showlegend=False,\n",
        "      width=400,\n",
        "      height=400,\n",
        "      margin=dict(l=0,r=0,t=0,b=0)\n",
        "  )\n",
        "\n",
        "  lim = 2.5\n",
        "  fig.update_scenes(\n",
        "      aspectmode= \"cube\",\n",
        "      xaxis=dict(range=[-lim,lim]),\n",
        "      yaxis=dict(range=[-lim,lim]),\n",
        "      zaxis=dict(range=[-lim,lim])\n",
        "  )\n",
        "\n",
        "  print(\"Use o mouse para interagir com a figura gerada:\")\n",
        "  print(\"Posição do efetuador final: x = [%.1f], y =[%.1f] e z =[%.1f]\" %  (L3[0], L3[1], L3[2]))\n",
        "  fig.show()\n",
        "\n",
        "######################################################################################\n",
        "############################ APLICANDO A CINEMÁTICA DIRETA ###########################\n",
        "######################################################################################\n",
        "[a1, a2, a3] = [1, 0, 1] # Tamanho dos elos\n",
        "[q1, q2, q3] = [0, 45, 45] # Ângulo das juntas\n",
        "\n",
        "plot3jrobot(q1, a1, q2, a2, q3, a3)"
      ]
    },
    {
      "cell_type": "markdown",
      "metadata": {
        "id": "uvCKacxym_Dt"
      },
      "source": [
        "# **Exercício de fixação 01:**\n",
        "* Aplicando a regra da mão direita no **Exemplo 02**, analise o  isoladamente os parâmetros:\n",
        "  * [q1, q2, q3] = [30, 0, 0]\n",
        "  * [q1, q2, q3] = [-30, 0, 0]\n",
        "  * [q1, q2, q3] = [0, 30, 0]\n",
        "  * [q1, q2, q3] = [0, -30, 0]\n",
        "  * [q1, q2, q3] = [0, 0, 30]\n",
        "  * [q1, q2, q3] = [0, 0, -30]"
      ]
    },
    {
      "cell_type": "markdown",
      "metadata": {
        "id": "S3QX7BN0Ekk5"
      },
      "source": [
        "# **Exercício de fixação 02:**\n",
        "* Criar uma projeção para o robô SCARA;"
      ]
    }
  ],
  "metadata": {
    "colab": {
      "collapsed_sections": [],
      "name": "RI - Aula 05 - Cinemática Direta - Denavit e Hartenberg.ipynb",
      "provenance": []
    },
    "interpreter": {
      "hash": "4333fd1fe43e466f515c3a6ba90777eaed51e6920feedfbbb88898e3a37377d4"
    },
    "kernelspec": {
      "display_name": "Python 3.9.7 ('base')",
      "language": "python",
      "name": "python3"
    },
    "language_info": {
      "codemirror_mode": {
        "name": "ipython",
        "version": 3
      },
      "file_extension": ".py",
      "mimetype": "text/x-python",
      "name": "python",
      "nbconvert_exporter": "python",
      "pygments_lexer": "ipython3",
      "version": "3.9.7"
    }
  },
  "nbformat": 4,
  "nbformat_minor": 0
}
