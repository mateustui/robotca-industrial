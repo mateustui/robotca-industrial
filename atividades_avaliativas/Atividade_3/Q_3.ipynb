{
 "cells": [
  {
   "cell_type": "code",
   "execution_count": 26,
   "metadata": {},
   "outputs": [],
   "source": [
    "import plotly.graph_objects as go\n",
    "import numpy as np"
   ]
  },
  {
   "cell_type": "code",
   "execution_count": 27,
   "metadata": {},
   "outputs": [
    {
     "name": "stdout",
     "output_type": "stream",
     "text": [
      "[1.  1.  1.5 1. ]\n",
      "[2.  2.  2.5 1. ]\n",
      "Use o mouse para interagir com a figura gerada:\n",
      "1.0\n"
     ]
    },
    {
     "data": {
      "application/vnd.plotly.v1+json": {
       "config": {
        "plotlyServerURL": "https://plot.ly"
       },
       "data": [
        {
         "line": {
          "color": "blue",
          "width": 5
         },
         "mode": "lines+text",
         "name": "xa",
         "text": [
          "",
          "xa"
         ],
         "textfont": {
          "color": "blue"
         },
         "type": "scatter3d",
         "x": [
          0,
          1
         ],
         "y": [
          0,
          0
         ],
         "z": [
          0,
          0
         ]
        },
        {
         "line": {
          "color": "red",
          "width": 5
         },
         "mode": "lines+text",
         "name": "ya",
         "text": [
          "",
          "ya"
         ],
         "textfont": {
          "color": "red"
         },
         "type": "scatter3d",
         "x": [
          0,
          0
         ],
         "y": [
          0,
          1
         ],
         "z": [
          0,
          0
         ]
        },
        {
         "line": {
          "color": "green",
          "width": 5
         },
         "mode": "lines+text",
         "name": "za",
         "text": [
          "",
          "za"
         ],
         "textfont": {
          "color": "green"
         },
         "type": "scatter3d",
         "x": [
          0,
          0
         ],
         "y": [
          0,
          0
         ],
         "z": [
          0,
          1
         ]
        },
        {
         "line": {
          "color": "blue",
          "width": 5
         },
         "mode": "lines+text",
         "name": "xb",
         "text": [
          "",
          "xb"
         ],
         "textfont": {
          "color": "blue"
         },
         "type": "scatter3d",
         "x": [
          1,
          2
         ],
         "y": [
          1,
          1
         ],
         "z": [
          1,
          1
         ]
        },
        {
         "line": {
          "color": "red",
          "width": 5
         },
         "mode": "lines+text",
         "name": "yb",
         "text": [
          "",
          "yb"
         ],
         "textfont": {
          "color": "red"
         },
         "type": "scatter3d",
         "x": [
          1,
          1
         ],
         "y": [
          1,
          2
         ],
         "z": [
          1,
          1
         ]
        },
        {
         "line": {
          "color": "green",
          "width": 5
         },
         "mode": "lines+text",
         "name": "zb",
         "text": [
          "",
          "zb"
         ],
         "textfont": {
          "color": "green"
         },
         "type": "scatter3d",
         "x": [
          1,
          1
         ],
         "y": [
          1,
          1
         ],
         "z": [
          1,
          2
         ]
        },
        {
         "line": {
          "color": "blue",
          "width": 5
         },
         "mode": "lines+text",
         "name": "xc",
         "text": [
          "",
          "xc"
         ],
         "textfont": {
          "color": "blue"
         },
         "type": "scatter3d",
         "x": [
          2,
          3
         ],
         "y": [
          2,
          2
         ],
         "z": [
          2,
          2
         ]
        },
        {
         "line": {
          "color": "red",
          "width": 5
         },
         "mode": "lines+text",
         "name": "yc",
         "text": [
          "",
          "yc"
         ],
         "textfont": {
          "color": "red"
         },
         "type": "scatter3d",
         "x": [
          2,
          2
         ],
         "y": [
          2,
          3
         ],
         "z": [
          2,
          2
         ]
        },
        {
         "line": {
          "color": "green",
          "width": 5
         },
         "mode": "lines+text",
         "name": "zc",
         "text": [
          "",
          "zc"
         ],
         "textfont": {
          "color": "green"
         },
         "type": "scatter3d",
         "x": [
          2,
          2
         ],
         "y": [
          2,
          2
         ],
         "z": [
          2,
          3
         ]
        },
        {
         "marker": {
          "color": "black",
          "size": 5
         },
         "mode": "markers+text",
         "name": "Pb",
         "text": [
          "Pb",
          ""
         ],
         "type": "scatter3d",
         "x": [
          1
         ],
         "y": [
          1
         ],
         "z": [
          1.5
         ]
        },
        {
         "marker": {
          "color": "black",
          "size": 5
         },
         "mode": "markers+text",
         "name": "Pc",
         "text": [
          "Pc",
          ""
         ],
         "type": "scatter3d",
         "x": [
          2
         ],
         "y": [
          2
         ],
         "z": [
          2.5
         ]
        }
       ],
       "layout": {
        "autosize": false,
        "height": 500,
        "margin": {
         "b": 0,
         "l": 0,
         "r": 0,
         "t": 0
        },
        "scene": {
         "aspectmode": "cube",
         "xaxis": {
          "range": [
           -4,
           4
          ]
         },
         "yaxis": {
          "range": [
           -4,
           4
          ]
         },
         "zaxis": {
          "range": [
           -4,
           4
          ]
         }
        },
        "showlegend": false,
        "template": {
         "data": {
          "bar": [
           {
            "error_x": {
             "color": "#2a3f5f"
            },
            "error_y": {
             "color": "#2a3f5f"
            },
            "marker": {
             "line": {
              "color": "#E5ECF6",
              "width": 0.5
             },
             "pattern": {
              "fillmode": "overlay",
              "size": 10,
              "solidity": 0.2
             }
            },
            "type": "bar"
           }
          ],
          "barpolar": [
           {
            "marker": {
             "line": {
              "color": "#E5ECF6",
              "width": 0.5
             },
             "pattern": {
              "fillmode": "overlay",
              "size": 10,
              "solidity": 0.2
             }
            },
            "type": "barpolar"
           }
          ],
          "carpet": [
           {
            "aaxis": {
             "endlinecolor": "#2a3f5f",
             "gridcolor": "white",
             "linecolor": "white",
             "minorgridcolor": "white",
             "startlinecolor": "#2a3f5f"
            },
            "baxis": {
             "endlinecolor": "#2a3f5f",
             "gridcolor": "white",
             "linecolor": "white",
             "minorgridcolor": "white",
             "startlinecolor": "#2a3f5f"
            },
            "type": "carpet"
           }
          ],
          "choropleth": [
           {
            "colorbar": {
             "outlinewidth": 0,
             "ticks": ""
            },
            "type": "choropleth"
           }
          ],
          "contour": [
           {
            "colorbar": {
             "outlinewidth": 0,
             "ticks": ""
            },
            "colorscale": [
             [
              0,
              "#0d0887"
             ],
             [
              0.1111111111111111,
              "#46039f"
             ],
             [
              0.2222222222222222,
              "#7201a8"
             ],
             [
              0.3333333333333333,
              "#9c179e"
             ],
             [
              0.4444444444444444,
              "#bd3786"
             ],
             [
              0.5555555555555556,
              "#d8576b"
             ],
             [
              0.6666666666666666,
              "#ed7953"
             ],
             [
              0.7777777777777778,
              "#fb9f3a"
             ],
             [
              0.8888888888888888,
              "#fdca26"
             ],
             [
              1,
              "#f0f921"
             ]
            ],
            "type": "contour"
           }
          ],
          "contourcarpet": [
           {
            "colorbar": {
             "outlinewidth": 0,
             "ticks": ""
            },
            "type": "contourcarpet"
           }
          ],
          "heatmap": [
           {
            "colorbar": {
             "outlinewidth": 0,
             "ticks": ""
            },
            "colorscale": [
             [
              0,
              "#0d0887"
             ],
             [
              0.1111111111111111,
              "#46039f"
             ],
             [
              0.2222222222222222,
              "#7201a8"
             ],
             [
              0.3333333333333333,
              "#9c179e"
             ],
             [
              0.4444444444444444,
              "#bd3786"
             ],
             [
              0.5555555555555556,
              "#d8576b"
             ],
             [
              0.6666666666666666,
              "#ed7953"
             ],
             [
              0.7777777777777778,
              "#fb9f3a"
             ],
             [
              0.8888888888888888,
              "#fdca26"
             ],
             [
              1,
              "#f0f921"
             ]
            ],
            "type": "heatmap"
           }
          ],
          "heatmapgl": [
           {
            "colorbar": {
             "outlinewidth": 0,
             "ticks": ""
            },
            "colorscale": [
             [
              0,
              "#0d0887"
             ],
             [
              0.1111111111111111,
              "#46039f"
             ],
             [
              0.2222222222222222,
              "#7201a8"
             ],
             [
              0.3333333333333333,
              "#9c179e"
             ],
             [
              0.4444444444444444,
              "#bd3786"
             ],
             [
              0.5555555555555556,
              "#d8576b"
             ],
             [
              0.6666666666666666,
              "#ed7953"
             ],
             [
              0.7777777777777778,
              "#fb9f3a"
             ],
             [
              0.8888888888888888,
              "#fdca26"
             ],
             [
              1,
              "#f0f921"
             ]
            ],
            "type": "heatmapgl"
           }
          ],
          "histogram": [
           {
            "marker": {
             "pattern": {
              "fillmode": "overlay",
              "size": 10,
              "solidity": 0.2
             }
            },
            "type": "histogram"
           }
          ],
          "histogram2d": [
           {
            "colorbar": {
             "outlinewidth": 0,
             "ticks": ""
            },
            "colorscale": [
             [
              0,
              "#0d0887"
             ],
             [
              0.1111111111111111,
              "#46039f"
             ],
             [
              0.2222222222222222,
              "#7201a8"
             ],
             [
              0.3333333333333333,
              "#9c179e"
             ],
             [
              0.4444444444444444,
              "#bd3786"
             ],
             [
              0.5555555555555556,
              "#d8576b"
             ],
             [
              0.6666666666666666,
              "#ed7953"
             ],
             [
              0.7777777777777778,
              "#fb9f3a"
             ],
             [
              0.8888888888888888,
              "#fdca26"
             ],
             [
              1,
              "#f0f921"
             ]
            ],
            "type": "histogram2d"
           }
          ],
          "histogram2dcontour": [
           {
            "colorbar": {
             "outlinewidth": 0,
             "ticks": ""
            },
            "colorscale": [
             [
              0,
              "#0d0887"
             ],
             [
              0.1111111111111111,
              "#46039f"
             ],
             [
              0.2222222222222222,
              "#7201a8"
             ],
             [
              0.3333333333333333,
              "#9c179e"
             ],
             [
              0.4444444444444444,
              "#bd3786"
             ],
             [
              0.5555555555555556,
              "#d8576b"
             ],
             [
              0.6666666666666666,
              "#ed7953"
             ],
             [
              0.7777777777777778,
              "#fb9f3a"
             ],
             [
              0.8888888888888888,
              "#fdca26"
             ],
             [
              1,
              "#f0f921"
             ]
            ],
            "type": "histogram2dcontour"
           }
          ],
          "mesh3d": [
           {
            "colorbar": {
             "outlinewidth": 0,
             "ticks": ""
            },
            "type": "mesh3d"
           }
          ],
          "parcoords": [
           {
            "line": {
             "colorbar": {
              "outlinewidth": 0,
              "ticks": ""
             }
            },
            "type": "parcoords"
           }
          ],
          "pie": [
           {
            "automargin": true,
            "type": "pie"
           }
          ],
          "scatter": [
           {
            "fillpattern": {
             "fillmode": "overlay",
             "size": 10,
             "solidity": 0.2
            },
            "type": "scatter"
           }
          ],
          "scatter3d": [
           {
            "line": {
             "colorbar": {
              "outlinewidth": 0,
              "ticks": ""
             }
            },
            "marker": {
             "colorbar": {
              "outlinewidth": 0,
              "ticks": ""
             }
            },
            "type": "scatter3d"
           }
          ],
          "scattercarpet": [
           {
            "marker": {
             "colorbar": {
              "outlinewidth": 0,
              "ticks": ""
             }
            },
            "type": "scattercarpet"
           }
          ],
          "scattergeo": [
           {
            "marker": {
             "colorbar": {
              "outlinewidth": 0,
              "ticks": ""
             }
            },
            "type": "scattergeo"
           }
          ],
          "scattergl": [
           {
            "marker": {
             "colorbar": {
              "outlinewidth": 0,
              "ticks": ""
             }
            },
            "type": "scattergl"
           }
          ],
          "scattermapbox": [
           {
            "marker": {
             "colorbar": {
              "outlinewidth": 0,
              "ticks": ""
             }
            },
            "type": "scattermapbox"
           }
          ],
          "scatterpolar": [
           {
            "marker": {
             "colorbar": {
              "outlinewidth": 0,
              "ticks": ""
             }
            },
            "type": "scatterpolar"
           }
          ],
          "scatterpolargl": [
           {
            "marker": {
             "colorbar": {
              "outlinewidth": 0,
              "ticks": ""
             }
            },
            "type": "scatterpolargl"
           }
          ],
          "scatterternary": [
           {
            "marker": {
             "colorbar": {
              "outlinewidth": 0,
              "ticks": ""
             }
            },
            "type": "scatterternary"
           }
          ],
          "surface": [
           {
            "colorbar": {
             "outlinewidth": 0,
             "ticks": ""
            },
            "colorscale": [
             [
              0,
              "#0d0887"
             ],
             [
              0.1111111111111111,
              "#46039f"
             ],
             [
              0.2222222222222222,
              "#7201a8"
             ],
             [
              0.3333333333333333,
              "#9c179e"
             ],
             [
              0.4444444444444444,
              "#bd3786"
             ],
             [
              0.5555555555555556,
              "#d8576b"
             ],
             [
              0.6666666666666666,
              "#ed7953"
             ],
             [
              0.7777777777777778,
              "#fb9f3a"
             ],
             [
              0.8888888888888888,
              "#fdca26"
             ],
             [
              1,
              "#f0f921"
             ]
            ],
            "type": "surface"
           }
          ],
          "table": [
           {
            "cells": {
             "fill": {
              "color": "#EBF0F8"
             },
             "line": {
              "color": "white"
             }
            },
            "header": {
             "fill": {
              "color": "#C8D4E3"
             },
             "line": {
              "color": "white"
             }
            },
            "type": "table"
           }
          ]
         },
         "layout": {
          "annotationdefaults": {
           "arrowcolor": "#2a3f5f",
           "arrowhead": 0,
           "arrowwidth": 1
          },
          "autotypenumbers": "strict",
          "coloraxis": {
           "colorbar": {
            "outlinewidth": 0,
            "ticks": ""
           }
          },
          "colorscale": {
           "diverging": [
            [
             0,
             "#8e0152"
            ],
            [
             0.1,
             "#c51b7d"
            ],
            [
             0.2,
             "#de77ae"
            ],
            [
             0.3,
             "#f1b6da"
            ],
            [
             0.4,
             "#fde0ef"
            ],
            [
             0.5,
             "#f7f7f7"
            ],
            [
             0.6,
             "#e6f5d0"
            ],
            [
             0.7,
             "#b8e186"
            ],
            [
             0.8,
             "#7fbc41"
            ],
            [
             0.9,
             "#4d9221"
            ],
            [
             1,
             "#276419"
            ]
           ],
           "sequential": [
            [
             0,
             "#0d0887"
            ],
            [
             0.1111111111111111,
             "#46039f"
            ],
            [
             0.2222222222222222,
             "#7201a8"
            ],
            [
             0.3333333333333333,
             "#9c179e"
            ],
            [
             0.4444444444444444,
             "#bd3786"
            ],
            [
             0.5555555555555556,
             "#d8576b"
            ],
            [
             0.6666666666666666,
             "#ed7953"
            ],
            [
             0.7777777777777778,
             "#fb9f3a"
            ],
            [
             0.8888888888888888,
             "#fdca26"
            ],
            [
             1,
             "#f0f921"
            ]
           ],
           "sequentialminus": [
            [
             0,
             "#0d0887"
            ],
            [
             0.1111111111111111,
             "#46039f"
            ],
            [
             0.2222222222222222,
             "#7201a8"
            ],
            [
             0.3333333333333333,
             "#9c179e"
            ],
            [
             0.4444444444444444,
             "#bd3786"
            ],
            [
             0.5555555555555556,
             "#d8576b"
            ],
            [
             0.6666666666666666,
             "#ed7953"
            ],
            [
             0.7777777777777778,
             "#fb9f3a"
            ],
            [
             0.8888888888888888,
             "#fdca26"
            ],
            [
             1,
             "#f0f921"
            ]
           ]
          },
          "colorway": [
           "#636efa",
           "#EF553B",
           "#00cc96",
           "#ab63fa",
           "#FFA15A",
           "#19d3f3",
           "#FF6692",
           "#B6E880",
           "#FF97FF",
           "#FECB52"
          ],
          "font": {
           "color": "#2a3f5f"
          },
          "geo": {
           "bgcolor": "white",
           "lakecolor": "white",
           "landcolor": "#E5ECF6",
           "showlakes": true,
           "showland": true,
           "subunitcolor": "white"
          },
          "hoverlabel": {
           "align": "left"
          },
          "hovermode": "closest",
          "mapbox": {
           "style": "light"
          },
          "paper_bgcolor": "white",
          "plot_bgcolor": "#E5ECF6",
          "polar": {
           "angularaxis": {
            "gridcolor": "white",
            "linecolor": "white",
            "ticks": ""
           },
           "bgcolor": "#E5ECF6",
           "radialaxis": {
            "gridcolor": "white",
            "linecolor": "white",
            "ticks": ""
           }
          },
          "scene": {
           "xaxis": {
            "backgroundcolor": "#E5ECF6",
            "gridcolor": "white",
            "gridwidth": 2,
            "linecolor": "white",
            "showbackground": true,
            "ticks": "",
            "zerolinecolor": "white"
           },
           "yaxis": {
            "backgroundcolor": "#E5ECF6",
            "gridcolor": "white",
            "gridwidth": 2,
            "linecolor": "white",
            "showbackground": true,
            "ticks": "",
            "zerolinecolor": "white"
           },
           "zaxis": {
            "backgroundcolor": "#E5ECF6",
            "gridcolor": "white",
            "gridwidth": 2,
            "linecolor": "white",
            "showbackground": true,
            "ticks": "",
            "zerolinecolor": "white"
           }
          },
          "shapedefaults": {
           "line": {
            "color": "#2a3f5f"
           }
          },
          "ternary": {
           "aaxis": {
            "gridcolor": "white",
            "linecolor": "white",
            "ticks": ""
           },
           "baxis": {
            "gridcolor": "white",
            "linecolor": "white",
            "ticks": ""
           },
           "bgcolor": "#E5ECF6",
           "caxis": {
            "gridcolor": "white",
            "linecolor": "white",
            "ticks": ""
           }
          },
          "title": {
           "x": 0.05
          },
          "xaxis": {
           "automargin": true,
           "gridcolor": "white",
           "linecolor": "white",
           "ticks": "",
           "title": {
            "standoff": 15
           },
           "zerolinecolor": "white",
           "zerolinewidth": 2
          },
          "yaxis": {
           "automargin": true,
           "gridcolor": "white",
           "linecolor": "white",
           "ticks": "",
           "title": {
            "standoff": 15
           },
           "zerolinecolor": "white",
           "zerolinewidth": 2
          }
         }
        },
        "width": 500
       }
      }
     },
     "metadata": {},
     "output_type": "display_data"
    }
   ],
   "source": [
    "def rotx(phi):\n",
    "    phi = np.radians(phi)  \n",
    "    cp = np.cos(phi)\n",
    "    sp = np.sin(phi)\n",
    "    return np.array(( (1,  0,   0), \n",
    "                      (0, cp, -sp),\n",
    "                      (0, sp,  cp) ))\n",
    "\n",
    "def roty(theta):\n",
    "    theta = np.radians(theta)  \n",
    "    ct = np.cos(theta)\n",
    "    st = np.sin(theta)\n",
    "    return np.array(( (ct,  0, st), \n",
    "                      (  0, 1, 0 ),\n",
    "                      (-st, 0, ct) ))\n",
    "\n",
    "def rotz(psi):\n",
    "    psi = np.radians(psi)  \n",
    "    cp = np.cos(psi)\n",
    "    sp = np.sin(psi)\n",
    "    return np.array((  (cp, -sp, 0), \n",
    "                       (sp,  cp, 0),\n",
    "                       ( 0,   0, 1) ))\n",
    "\n",
    "def rotzyx(yaw, pitch, roll):\n",
    "  return np.dot(rotz(yaw), roty(pitch)).dot(rotx(roll))\n",
    "\n",
    "#Função que cria tranformações homogêneas\n",
    "def t_homogenea3d(yaw, pitch, roll, xt, yt, zt):\n",
    "  R = rotzyx(yaw, pitch, roll)\n",
    "  return np.array(( (R[0][0], R[0][1], R[0][2], xt), \n",
    "                    (R[1][0], R[1][1], R[1][2], yt),\n",
    "                    (R[2][0], R[2][1], R[2][2], zt),\n",
    "                    (      0,       0,       0,  1) ))\n",
    "\n",
    "######################################################################################\n",
    "############################### APLICANDO AS ROTAÇÕES ################################\n",
    "######################################################################################\n",
    "#Vetores das setas do sistema {A}, dados no próprio referencial em coordenadas homogêneas\n",
    "\n",
    "pb=np.array((0,0,0.5,1)).T\n",
    "pc=np.array((0,0,0.5,1)).T\n",
    "\n",
    "\n",
    "\n",
    "Oa = np.array((0,0,0,1)) # Origem {A}\n",
    "Xa = np.array((1,0,0,1)) # seta do eixo x (vermelho) dadas em {A}\n",
    "Ya = np.array((0,1,0,1)) # seta do eixo y (azul) dadas em {A}\n",
    "Za = np.array((0,0,1,1)) # seta do eixo z (verde) dadas em {A}\n",
    "\n",
    "Ob = np.array((0,0,0,1)) # Origem {B}\n",
    "Xb = np.array((1,0,0,1)) # seta do eixo x (vermelho) dadas em {B}\n",
    "Yb = np.array((0,1,0,1)) # seta do eixo y (azul) dadas em {B}\n",
    "Zb = np.array((0,0,1,1)) # seta do eixo z (verde) dadas em {B}\n",
    "\n",
    "#Rotações\n",
    "T = t_homogenea3d(0,0,0,1,1,1) #Tranformação: Rotação em torno de z de 30° e deslocamento de 0.5 em x e y\n",
    "Ob2a = np.dot(T,Ob)\n",
    "Xb2a = np.dot(T,Xb)\n",
    "Yb2a = np.dot(T,Yb)\n",
    "Zb2a = np.dot(T,Zb)\n",
    "\n",
    "Oc2b = np.dot(T,Ob2a)\n",
    "Xc2b = np.dot(T,Xb2a)\n",
    "Yc2b = np.dot(T,Yb2a)\n",
    "Zc2b = np.dot(T,Zb2a)\n",
    "\n",
    "\n",
    "pb2a=np.dot(T,pb)\n",
    "\n",
    "#print(pb2a)\n",
    "\n",
    "pc2a=np.dot(T,np.dot(T,pc))\n",
    "#print(pc2a)\n",
    "\n",
    "######################################################################################\n",
    "############################### PLOT #################################################\n",
    "######################################################################################\n",
    "print(\"Use o mouse para interagir com a figura gerada:\")\n",
    "\n",
    "X = np.zeros((2, 3))\n",
    "Y = np.zeros((2, 3))\n",
    "Z = np.zeros((2, 3))\n",
    "\n",
    "X[0,:] = Oa[:3] #Pega os três primeiros elementos apenas\n",
    "X[1,:] = Xa[:3]\n",
    "Y[0,:] = Oa[:3]\n",
    "Y[1,:] = Ya[:3]\n",
    "Z[0,:] = Oa[:3]\n",
    "Z[1,:] = Za[:3]\n",
    "\n",
    "X2 = np.zeros((2, 3))\n",
    "Y2 = np.zeros((2, 3))\n",
    "Z2 = np.zeros((2, 3))\n",
    "\n",
    "X2[0,:] = Ob2a[:3]\n",
    "X2[1,:] = Xb2a[:3]\n",
    "Y2[0,:] = Ob2a[:3]\n",
    "Y2[1,:] = Yb2a[:3]\n",
    "Z2[0,:] = Ob2a[:3]\n",
    "Z2[1,:] = Zb2a[:3]\n",
    "\n",
    "X3 = np.zeros((2, 3))\n",
    "Y3 = np.zeros((2, 3))\n",
    "Z3 = np.zeros((2, 3))\n",
    "\n",
    "X3[0,:] = Oc2b[:3]\n",
    "X3[1,:] = Xc2b[:3]\n",
    "Y3[0,:] = Oc2b[:3]\n",
    "Y3[1,:] = Yc2b[:3]\n",
    "Z3[0,:] = Oc2b[:3]\n",
    "Z3[1,:] = Zc2b[:3]\n",
    "\n",
    "fig = go.Figure()\n",
    "\n",
    "fig.add_trace(go.Scatter3d(x=X[:,0], y=X[:,1], z=X[:,2], mode='lines+text', text=[\"\",\"xa\"], textfont=dict(color=\"blue\"), name='xa', line=dict(color='blue',width=5)))\n",
    "fig.add_trace(go.Scatter3d(x=Y[:,0], y=Y[:,1], z=Y[:,2], mode='lines+text', text=[\"\",\"ya\"], textfont=dict(color=\"red\"), name='ya', line=dict(color='red',width=5)))\n",
    "fig.add_trace(go.Scatter3d(x=Z[:,0], y=Z[:,1], z=Z[:,2], mode='lines+text', text=[\"\",\"za\"], textfont=dict(color=\"green\"), name='za',line=dict(color='green',width=5)))\n",
    "\n",
    "fig.add_trace(go.Scatter3d(x=X2[:,0], y=X2[:,1], z=X2[:,2], mode='lines+text', text=[\"\",\"xb\"], textfont=dict(color=\"blue\"), name='xb', line=dict(color='blue',width=5)))\n",
    "fig.add_trace(go.Scatter3d(x=Y2[:,0], y=Y2[:,1], z=Y2[:,2], mode='lines+text', text=[\"\",\"yb\"], textfont=dict(color=\"red\"), name='yb',line=dict(color='red',width=5)))\n",
    "fig.add_trace(go.Scatter3d(x=Z2[:,0], y=Z2[:,1], z=Z2[:,2], mode='lines+text', text=[\"\",\"zb\"], textfont=dict(color=\"green\"), name='zb',line=dict(color='green',width=5)))\n",
    "\n",
    "\n",
    "\n",
    "fig.add_trace(go.Scatter3d(x=X3[:,0], y=X3[:,1], z=X3[:,2], mode='lines+text', text=[\"\",\"xc\"], textfont=dict(color=\"blue\"), name='xc', line=dict(color='blue',width=5)))\n",
    "fig.add_trace(go.Scatter3d(x=Y3[:,0], y=Y3[:,1], z=Y3[:,2], mode='lines+text', text=[\"\",\"yc\"], textfont=dict(color=\"red\"), name='yc',line=dict(color='red',width=5)))\n",
    "fig.add_trace(go.Scatter3d(x=Z3[:,0], y=Z3[:,1], z=Z3[:,2], mode='lines+text', text=[\"\",\"zc\"], textfont=dict(color=\"green\"), name='zc',line=dict(color='green',width=5)))\n",
    "\n",
    "\n",
    "#Comando de plotar pontos\n",
    "#Substitua x=[0], y=[0], z=[0] pelas coordenadas do ponto\n",
    "fig.add_trace(go.Scatter3d(x=[pb2a[0]], y=[pb2a[1]], z=[pb2a[2]], mode='markers+text',text=[\"Pb\",\"\"], name='Pb', marker=dict(color='black',size=5)))\n",
    "fig.add_trace(go.Scatter3d(x=[pc2a[0]], y=[pc2a[1]], z=[pc2a[2]], mode='markers+text',text=[\"Pc\",\"\"], name='Pc', marker=dict(color='black',size=5)))\n",
    "\n",
    "fig.update_layout(\n",
    "    autosize=False,\n",
    "    showlegend=False,\n",
    "    width=500,\n",
    "    height=500,\n",
    "    margin=dict(l=0,r=0,t=0,b=0)\n",
    ")\n",
    "\n",
    "lim = 4.0\n",
    "fig.update_scenes(\n",
    "    aspectmode= \"cube\",\n",
    "    xaxis=dict(range=[-lim,lim]),\n",
    "    yaxis=dict(range=[-lim,lim]),\n",
    "    zaxis=dict(range=[-lim,lim])\n",
    ")"
   ]
  },
  {
   "cell_type": "code",
   "execution_count": 28,
   "metadata": {},
   "outputs": [
    {
     "name": "stdout",
     "output_type": "stream",
     "text": [
      "Use o mouse para interagir com a figura gerada:\n"
     ]
    },
    {
     "data": {
      "application/vnd.plotly.v1+json": {
       "config": {
        "plotlyServerURL": "https://plot.ly"
       },
       "data": [
        {
         "line": {
          "color": "blue",
          "width": 5
         },
         "mode": "lines+text",
         "name": "xa",
         "text": [
          "",
          "xa"
         ],
         "textfont": {
          "color": "blue"
         },
         "type": "scatter3d",
         "x": [
          0,
          1
         ],
         "y": [
          0,
          0
         ],
         "z": [
          0,
          0
         ]
        },
        {
         "line": {
          "color": "red",
          "width": 5
         },
         "mode": "lines+text",
         "name": "ya",
         "text": [
          "",
          "ya"
         ],
         "textfont": {
          "color": "red"
         },
         "type": "scatter3d",
         "x": [
          0,
          0
         ],
         "y": [
          0,
          1
         ],
         "z": [
          0,
          0
         ]
        },
        {
         "line": {
          "color": "green",
          "width": 5
         },
         "mode": "lines+text",
         "name": "za",
         "text": [
          "",
          "za"
         ],
         "textfont": {
          "color": "green"
         },
         "type": "scatter3d",
         "x": [
          0,
          0
         ],
         "y": [
          0,
          0
         ],
         "z": [
          0,
          1
         ]
        },
        {
         "line": {
          "color": "blue",
          "width": 5
         },
         "mode": "lines+text",
         "name": "xb",
         "text": [
          "",
          "xb"
         ],
         "textfont": {
          "color": "blue"
         },
         "type": "scatter3d",
         "x": [
          1,
          1.7071067811865475
         ],
         "y": [
          1,
          1.7071067811865475
         ],
         "z": [
          1,
          1
         ]
        },
        {
         "line": {
          "color": "red",
          "width": 5
         },
         "mode": "lines+text",
         "name": "yb",
         "text": [
          "",
          "yb"
         ],
         "textfont": {
          "color": "red"
         },
         "type": "scatter3d",
         "x": [
          1,
          0.2928932188134524
         ],
         "y": [
          1,
          1.7071067811865475
         ],
         "z": [
          1,
          1
         ]
        },
        {
         "line": {
          "color": "green",
          "width": 5
         },
         "mode": "lines+text",
         "name": "zb",
         "text": [
          "",
          "zb"
         ],
         "textfont": {
          "color": "green"
         },
         "type": "scatter3d",
         "x": [
          1,
          1
         ],
         "y": [
          1,
          1
         ],
         "z": [
          1,
          2
         ]
        },
        {
         "line": {
          "color": "blue",
          "width": 5
         },
         "mode": "lines+text",
         "name": "xc",
         "text": [
          "",
          "xc"
         ],
         "textfont": {
          "color": "blue"
         },
         "type": "scatter3d",
         "x": [
          1,
          1
         ],
         "y": [
          2.414213562373095,
          3.414213562373095
         ],
         "z": [
          2,
          2
         ]
        },
        {
         "line": {
          "color": "red",
          "width": 5
         },
         "mode": "lines+text",
         "name": "yc",
         "text": [
          "",
          "yc"
         ],
         "textfont": {
          "color": "red"
         },
         "type": "scatter3d",
         "x": [
          1,
          0
         ],
         "y": [
          2.414213562373095,
          2.414213562373095
         ],
         "z": [
          2,
          2
         ]
        },
        {
         "line": {
          "color": "green",
          "width": 5
         },
         "mode": "lines+text",
         "name": "zc",
         "text": [
          "",
          "zc"
         ],
         "textfont": {
          "color": "green"
         },
         "type": "scatter3d",
         "x": [
          1,
          1
         ],
         "y": [
          2.414213562373095,
          2.414213562373095
         ],
         "z": [
          2,
          3
         ]
        },
        {
         "marker": {
          "color": "black",
          "size": 5
         },
         "mode": "markers+text",
         "name": "Pb",
         "text": [
          "Pb",
          ""
         ],
         "type": "scatter3d",
         "x": [
          1
         ],
         "y": [
          1
         ],
         "z": [
          1.5
         ]
        },
        {
         "marker": {
          "color": "black",
          "size": 5
         },
         "mode": "markers+text",
         "name": "Pc",
         "text": [
          "Pc",
          ""
         ],
         "type": "scatter3d",
         "x": [
          1
         ],
         "y": [
          2.414213562373095
         ],
         "z": [
          2.5
         ]
        }
       ],
       "layout": {
        "autosize": false,
        "height": 500,
        "margin": {
         "b": 0,
         "l": 0,
         "r": 0,
         "t": 0
        },
        "scene": {
         "aspectmode": "cube",
         "xaxis": {
          "range": [
           -4,
           4
          ]
         },
         "yaxis": {
          "range": [
           -4,
           4
          ]
         },
         "zaxis": {
          "range": [
           -4,
           4
          ]
         }
        },
        "showlegend": false,
        "template": {
         "data": {
          "bar": [
           {
            "error_x": {
             "color": "#2a3f5f"
            },
            "error_y": {
             "color": "#2a3f5f"
            },
            "marker": {
             "line": {
              "color": "#E5ECF6",
              "width": 0.5
             },
             "pattern": {
              "fillmode": "overlay",
              "size": 10,
              "solidity": 0.2
             }
            },
            "type": "bar"
           }
          ],
          "barpolar": [
           {
            "marker": {
             "line": {
              "color": "#E5ECF6",
              "width": 0.5
             },
             "pattern": {
              "fillmode": "overlay",
              "size": 10,
              "solidity": 0.2
             }
            },
            "type": "barpolar"
           }
          ],
          "carpet": [
           {
            "aaxis": {
             "endlinecolor": "#2a3f5f",
             "gridcolor": "white",
             "linecolor": "white",
             "minorgridcolor": "white",
             "startlinecolor": "#2a3f5f"
            },
            "baxis": {
             "endlinecolor": "#2a3f5f",
             "gridcolor": "white",
             "linecolor": "white",
             "minorgridcolor": "white",
             "startlinecolor": "#2a3f5f"
            },
            "type": "carpet"
           }
          ],
          "choropleth": [
           {
            "colorbar": {
             "outlinewidth": 0,
             "ticks": ""
            },
            "type": "choropleth"
           }
          ],
          "contour": [
           {
            "colorbar": {
             "outlinewidth": 0,
             "ticks": ""
            },
            "colorscale": [
             [
              0,
              "#0d0887"
             ],
             [
              0.1111111111111111,
              "#46039f"
             ],
             [
              0.2222222222222222,
              "#7201a8"
             ],
             [
              0.3333333333333333,
              "#9c179e"
             ],
             [
              0.4444444444444444,
              "#bd3786"
             ],
             [
              0.5555555555555556,
              "#d8576b"
             ],
             [
              0.6666666666666666,
              "#ed7953"
             ],
             [
              0.7777777777777778,
              "#fb9f3a"
             ],
             [
              0.8888888888888888,
              "#fdca26"
             ],
             [
              1,
              "#f0f921"
             ]
            ],
            "type": "contour"
           }
          ],
          "contourcarpet": [
           {
            "colorbar": {
             "outlinewidth": 0,
             "ticks": ""
            },
            "type": "contourcarpet"
           }
          ],
          "heatmap": [
           {
            "colorbar": {
             "outlinewidth": 0,
             "ticks": ""
            },
            "colorscale": [
             [
              0,
              "#0d0887"
             ],
             [
              0.1111111111111111,
              "#46039f"
             ],
             [
              0.2222222222222222,
              "#7201a8"
             ],
             [
              0.3333333333333333,
              "#9c179e"
             ],
             [
              0.4444444444444444,
              "#bd3786"
             ],
             [
              0.5555555555555556,
              "#d8576b"
             ],
             [
              0.6666666666666666,
              "#ed7953"
             ],
             [
              0.7777777777777778,
              "#fb9f3a"
             ],
             [
              0.8888888888888888,
              "#fdca26"
             ],
             [
              1,
              "#f0f921"
             ]
            ],
            "type": "heatmap"
           }
          ],
          "heatmapgl": [
           {
            "colorbar": {
             "outlinewidth": 0,
             "ticks": ""
            },
            "colorscale": [
             [
              0,
              "#0d0887"
             ],
             [
              0.1111111111111111,
              "#46039f"
             ],
             [
              0.2222222222222222,
              "#7201a8"
             ],
             [
              0.3333333333333333,
              "#9c179e"
             ],
             [
              0.4444444444444444,
              "#bd3786"
             ],
             [
              0.5555555555555556,
              "#d8576b"
             ],
             [
              0.6666666666666666,
              "#ed7953"
             ],
             [
              0.7777777777777778,
              "#fb9f3a"
             ],
             [
              0.8888888888888888,
              "#fdca26"
             ],
             [
              1,
              "#f0f921"
             ]
            ],
            "type": "heatmapgl"
           }
          ],
          "histogram": [
           {
            "marker": {
             "pattern": {
              "fillmode": "overlay",
              "size": 10,
              "solidity": 0.2
             }
            },
            "type": "histogram"
           }
          ],
          "histogram2d": [
           {
            "colorbar": {
             "outlinewidth": 0,
             "ticks": ""
            },
            "colorscale": [
             [
              0,
              "#0d0887"
             ],
             [
              0.1111111111111111,
              "#46039f"
             ],
             [
              0.2222222222222222,
              "#7201a8"
             ],
             [
              0.3333333333333333,
              "#9c179e"
             ],
             [
              0.4444444444444444,
              "#bd3786"
             ],
             [
              0.5555555555555556,
              "#d8576b"
             ],
             [
              0.6666666666666666,
              "#ed7953"
             ],
             [
              0.7777777777777778,
              "#fb9f3a"
             ],
             [
              0.8888888888888888,
              "#fdca26"
             ],
             [
              1,
              "#f0f921"
             ]
            ],
            "type": "histogram2d"
           }
          ],
          "histogram2dcontour": [
           {
            "colorbar": {
             "outlinewidth": 0,
             "ticks": ""
            },
            "colorscale": [
             [
              0,
              "#0d0887"
             ],
             [
              0.1111111111111111,
              "#46039f"
             ],
             [
              0.2222222222222222,
              "#7201a8"
             ],
             [
              0.3333333333333333,
              "#9c179e"
             ],
             [
              0.4444444444444444,
              "#bd3786"
             ],
             [
              0.5555555555555556,
              "#d8576b"
             ],
             [
              0.6666666666666666,
              "#ed7953"
             ],
             [
              0.7777777777777778,
              "#fb9f3a"
             ],
             [
              0.8888888888888888,
              "#fdca26"
             ],
             [
              1,
              "#f0f921"
             ]
            ],
            "type": "histogram2dcontour"
           }
          ],
          "mesh3d": [
           {
            "colorbar": {
             "outlinewidth": 0,
             "ticks": ""
            },
            "type": "mesh3d"
           }
          ],
          "parcoords": [
           {
            "line": {
             "colorbar": {
              "outlinewidth": 0,
              "ticks": ""
             }
            },
            "type": "parcoords"
           }
          ],
          "pie": [
           {
            "automargin": true,
            "type": "pie"
           }
          ],
          "scatter": [
           {
            "fillpattern": {
             "fillmode": "overlay",
             "size": 10,
             "solidity": 0.2
            },
            "type": "scatter"
           }
          ],
          "scatter3d": [
           {
            "line": {
             "colorbar": {
              "outlinewidth": 0,
              "ticks": ""
             }
            },
            "marker": {
             "colorbar": {
              "outlinewidth": 0,
              "ticks": ""
             }
            },
            "type": "scatter3d"
           }
          ],
          "scattercarpet": [
           {
            "marker": {
             "colorbar": {
              "outlinewidth": 0,
              "ticks": ""
             }
            },
            "type": "scattercarpet"
           }
          ],
          "scattergeo": [
           {
            "marker": {
             "colorbar": {
              "outlinewidth": 0,
              "ticks": ""
             }
            },
            "type": "scattergeo"
           }
          ],
          "scattergl": [
           {
            "marker": {
             "colorbar": {
              "outlinewidth": 0,
              "ticks": ""
             }
            },
            "type": "scattergl"
           }
          ],
          "scattermapbox": [
           {
            "marker": {
             "colorbar": {
              "outlinewidth": 0,
              "ticks": ""
             }
            },
            "type": "scattermapbox"
           }
          ],
          "scatterpolar": [
           {
            "marker": {
             "colorbar": {
              "outlinewidth": 0,
              "ticks": ""
             }
            },
            "type": "scatterpolar"
           }
          ],
          "scatterpolargl": [
           {
            "marker": {
             "colorbar": {
              "outlinewidth": 0,
              "ticks": ""
             }
            },
            "type": "scatterpolargl"
           }
          ],
          "scatterternary": [
           {
            "marker": {
             "colorbar": {
              "outlinewidth": 0,
              "ticks": ""
             }
            },
            "type": "scatterternary"
           }
          ],
          "surface": [
           {
            "colorbar": {
             "outlinewidth": 0,
             "ticks": ""
            },
            "colorscale": [
             [
              0,
              "#0d0887"
             ],
             [
              0.1111111111111111,
              "#46039f"
             ],
             [
              0.2222222222222222,
              "#7201a8"
             ],
             [
              0.3333333333333333,
              "#9c179e"
             ],
             [
              0.4444444444444444,
              "#bd3786"
             ],
             [
              0.5555555555555556,
              "#d8576b"
             ],
             [
              0.6666666666666666,
              "#ed7953"
             ],
             [
              0.7777777777777778,
              "#fb9f3a"
             ],
             [
              0.8888888888888888,
              "#fdca26"
             ],
             [
              1,
              "#f0f921"
             ]
            ],
            "type": "surface"
           }
          ],
          "table": [
           {
            "cells": {
             "fill": {
              "color": "#EBF0F8"
             },
             "line": {
              "color": "white"
             }
            },
            "header": {
             "fill": {
              "color": "#C8D4E3"
             },
             "line": {
              "color": "white"
             }
            },
            "type": "table"
           }
          ]
         },
         "layout": {
          "annotationdefaults": {
           "arrowcolor": "#2a3f5f",
           "arrowhead": 0,
           "arrowwidth": 1
          },
          "autotypenumbers": "strict",
          "coloraxis": {
           "colorbar": {
            "outlinewidth": 0,
            "ticks": ""
           }
          },
          "colorscale": {
           "diverging": [
            [
             0,
             "#8e0152"
            ],
            [
             0.1,
             "#c51b7d"
            ],
            [
             0.2,
             "#de77ae"
            ],
            [
             0.3,
             "#f1b6da"
            ],
            [
             0.4,
             "#fde0ef"
            ],
            [
             0.5,
             "#f7f7f7"
            ],
            [
             0.6,
             "#e6f5d0"
            ],
            [
             0.7,
             "#b8e186"
            ],
            [
             0.8,
             "#7fbc41"
            ],
            [
             0.9,
             "#4d9221"
            ],
            [
             1,
             "#276419"
            ]
           ],
           "sequential": [
            [
             0,
             "#0d0887"
            ],
            [
             0.1111111111111111,
             "#46039f"
            ],
            [
             0.2222222222222222,
             "#7201a8"
            ],
            [
             0.3333333333333333,
             "#9c179e"
            ],
            [
             0.4444444444444444,
             "#bd3786"
            ],
            [
             0.5555555555555556,
             "#d8576b"
            ],
            [
             0.6666666666666666,
             "#ed7953"
            ],
            [
             0.7777777777777778,
             "#fb9f3a"
            ],
            [
             0.8888888888888888,
             "#fdca26"
            ],
            [
             1,
             "#f0f921"
            ]
           ],
           "sequentialminus": [
            [
             0,
             "#0d0887"
            ],
            [
             0.1111111111111111,
             "#46039f"
            ],
            [
             0.2222222222222222,
             "#7201a8"
            ],
            [
             0.3333333333333333,
             "#9c179e"
            ],
            [
             0.4444444444444444,
             "#bd3786"
            ],
            [
             0.5555555555555556,
             "#d8576b"
            ],
            [
             0.6666666666666666,
             "#ed7953"
            ],
            [
             0.7777777777777778,
             "#fb9f3a"
            ],
            [
             0.8888888888888888,
             "#fdca26"
            ],
            [
             1,
             "#f0f921"
            ]
           ]
          },
          "colorway": [
           "#636efa",
           "#EF553B",
           "#00cc96",
           "#ab63fa",
           "#FFA15A",
           "#19d3f3",
           "#FF6692",
           "#B6E880",
           "#FF97FF",
           "#FECB52"
          ],
          "font": {
           "color": "#2a3f5f"
          },
          "geo": {
           "bgcolor": "white",
           "lakecolor": "white",
           "landcolor": "#E5ECF6",
           "showlakes": true,
           "showland": true,
           "subunitcolor": "white"
          },
          "hoverlabel": {
           "align": "left"
          },
          "hovermode": "closest",
          "mapbox": {
           "style": "light"
          },
          "paper_bgcolor": "white",
          "plot_bgcolor": "#E5ECF6",
          "polar": {
           "angularaxis": {
            "gridcolor": "white",
            "linecolor": "white",
            "ticks": ""
           },
           "bgcolor": "#E5ECF6",
           "radialaxis": {
            "gridcolor": "white",
            "linecolor": "white",
            "ticks": ""
           }
          },
          "scene": {
           "xaxis": {
            "backgroundcolor": "#E5ECF6",
            "gridcolor": "white",
            "gridwidth": 2,
            "linecolor": "white",
            "showbackground": true,
            "ticks": "",
            "zerolinecolor": "white"
           },
           "yaxis": {
            "backgroundcolor": "#E5ECF6",
            "gridcolor": "white",
            "gridwidth": 2,
            "linecolor": "white",
            "showbackground": true,
            "ticks": "",
            "zerolinecolor": "white"
           },
           "zaxis": {
            "backgroundcolor": "#E5ECF6",
            "gridcolor": "white",
            "gridwidth": 2,
            "linecolor": "white",
            "showbackground": true,
            "ticks": "",
            "zerolinecolor": "white"
           }
          },
          "shapedefaults": {
           "line": {
            "color": "#2a3f5f"
           }
          },
          "ternary": {
           "aaxis": {
            "gridcolor": "white",
            "linecolor": "white",
            "ticks": ""
           },
           "baxis": {
            "gridcolor": "white",
            "linecolor": "white",
            "ticks": ""
           },
           "bgcolor": "#E5ECF6",
           "caxis": {
            "gridcolor": "white",
            "linecolor": "white",
            "ticks": ""
           }
          },
          "title": {
           "x": 0.05
          },
          "xaxis": {
           "automargin": true,
           "gridcolor": "white",
           "linecolor": "white",
           "ticks": "",
           "title": {
            "standoff": 15
           },
           "zerolinecolor": "white",
           "zerolinewidth": 2
          },
          "yaxis": {
           "automargin": true,
           "gridcolor": "white",
           "linecolor": "white",
           "ticks": "",
           "title": {
            "standoff": 15
           },
           "zerolinecolor": "white",
           "zerolinewidth": 2
          }
         }
        },
        "width": 500
       }
      }
     },
     "metadata": {},
     "output_type": "display_data"
    }
   ],
   "source": [
    "def rotx(phi):\n",
    "    phi = np.radians(phi)  \n",
    "    cp = np.cos(phi)\n",
    "    sp = np.sin(phi)\n",
    "    return np.array(( (1,  0,   0), \n",
    "                      (0, cp, -sp),\n",
    "                      (0, sp,  cp) ))\n",
    "\n",
    "def roty(theta):\n",
    "    theta = np.radians(theta)  \n",
    "    ct = np.cos(theta)\n",
    "    st = np.sin(theta)\n",
    "    return np.array(( (ct,  0, st), \n",
    "                      (  0, 1, 0 ),\n",
    "                      (-st, 0, ct) ))\n",
    "\n",
    "def rotz(psi):\n",
    "    psi = np.radians(psi)  \n",
    "    cp = np.cos(psi)\n",
    "    sp = np.sin(psi)\n",
    "    return np.array((  (cp, -sp, 0), \n",
    "                       (sp,  cp, 0),\n",
    "                       ( 0,   0, 1) ))\n",
    "\n",
    "def rotzyx(yaw, pitch, roll):\n",
    "  return np.dot(rotz(yaw), roty(pitch)).dot(rotx(roll))\n",
    "\n",
    "#Função que cria tranformações homogêneas\n",
    "def t_homogenea3d(yaw, pitch, roll, xt, yt, zt):\n",
    "  R = rotzyx(yaw, pitch, roll)\n",
    "  return np.array(( (R[0][0], R[0][1], R[0][2], xt), \n",
    "                    (R[1][0], R[1][1], R[1][2], yt),\n",
    "                    (R[2][0], R[2][1], R[2][2], zt),\n",
    "                    (      0,       0,       0,  1) ))\n",
    "\n",
    "######################################################################################\n",
    "############################### APLICANDO AS ROTAÇÕES ################################\n",
    "######################################################################################\n",
    "#Vetores das setas do sistema {A}, dados no próprio referencial em coordenadas homogêneas\n",
    "\n",
    "pb=np.array((0,0,0.5,1)).T\n",
    "pc=np.array((0,0,0.5,1)).T\n",
    "\n",
    "\n",
    "\n",
    "Oa = np.array((0,0,0,1)) # Origem {A}\n",
    "Xa = np.array((1,0,0,1)) # seta do eixo x (vermelho) dadas em {A}\n",
    "Ya = np.array((0,1,0,1)) # seta do eixo y (azul) dadas em {A}\n",
    "Za = np.array((0,0,1,1)) # seta do eixo z (verde) dadas em {A}\n",
    "\n",
    "Ob = np.array((0,0,0,1)) # Origem {B}\n",
    "Xb = np.array((1,0,0,1)) # seta do eixo x (vermelho) dadas em {B}\n",
    "Yb = np.array((0,1,0,1)) # seta do eixo y (azul) dadas em {B}\n",
    "Zb = np.array((0,0,1,1)) # seta do eixo z (verde) dadas em {B}\n",
    "\n",
    "#Rotações\n",
    "T = t_homogenea3d(45,0,0,1,1,1) #Tranformação: Rotação em torno de z de 30° e deslocamento de 0.5 em x e y\n",
    "Ob2a = np.dot(T,Ob)\n",
    "Xb2a = np.dot(T,Xb)\n",
    "Yb2a = np.dot(T,Yb)\n",
    "Zb2a = np.dot(T,Zb)\n",
    "\n",
    "Oc2b = np.dot(T,Ob2a)\n",
    "Xc2b = np.dot(T,Xb2a)\n",
    "Yc2b = np.dot(T,Yb2a)\n",
    "Zc2b = np.dot(T,Zb2a)\n",
    "\n",
    "\n",
    "pb2a=np.dot(T,pb)\n",
    "\n",
    "#print(pb2a)\n",
    "\n",
    "pc2a=np.dot(T,np.dot(T,pc))\n",
    "#print(pc2a)\n",
    "\n",
    "######################################################################################\n",
    "############################### PLOT #################################################\n",
    "######################################################################################\n",
    "print(\"Use o mouse para interagir com a figura gerada:\")\n",
    "\n",
    "X = np.zeros((2, 3))\n",
    "Y = np.zeros((2, 3))\n",
    "Z = np.zeros((2, 3))\n",
    "\n",
    "X[0,:] = Oa[:3] #Pega os três primeiros elementos apenas\n",
    "X[1,:] = Xa[:3]\n",
    "Y[0,:] = Oa[:3]\n",
    "Y[1,:] = Ya[:3]\n",
    "Z[0,:] = Oa[:3]\n",
    "Z[1,:] = Za[:3]\n",
    "\n",
    "X2 = np.zeros((2, 3))\n",
    "Y2 = np.zeros((2, 3))\n",
    "Z2 = np.zeros((2, 3))\n",
    "\n",
    "X2[0,:] = Ob2a[:3]\n",
    "X2[1,:] = Xb2a[:3]\n",
    "Y2[0,:] = Ob2a[:3]\n",
    "Y2[1,:] = Yb2a[:3]\n",
    "Z2[0,:] = Ob2a[:3]\n",
    "Z2[1,:] = Zb2a[:3]\n",
    "\n",
    "X3 = np.zeros((2, 3))\n",
    "Y3 = np.zeros((2, 3))\n",
    "Z3 = np.zeros((2, 3))\n",
    "\n",
    "X3[0,:] = Oc2b[:3]\n",
    "X3[1,:] = Xc2b[:3]\n",
    "Y3[0,:] = Oc2b[:3]\n",
    "Y3[1,:] = Yc2b[:3]\n",
    "Z3[0,:] = Oc2b[:3]\n",
    "Z3[1,:] = Zc2b[:3]\n",
    "\n",
    "fig = go.Figure()\n",
    "\n",
    "fig.add_trace(go.Scatter3d(x=X[:,0], y=X[:,1], z=X[:,2], mode='lines+text', text=[\"\",\"xa\"], textfont=dict(color=\"blue\"), name='xa', line=dict(color='blue',width=5)))\n",
    "fig.add_trace(go.Scatter3d(x=Y[:,0], y=Y[:,1], z=Y[:,2], mode='lines+text', text=[\"\",\"ya\"], textfont=dict(color=\"red\"), name='ya', line=dict(color='red',width=5)))\n",
    "fig.add_trace(go.Scatter3d(x=Z[:,0], y=Z[:,1], z=Z[:,2], mode='lines+text', text=[\"\",\"za\"], textfont=dict(color=\"green\"), name='za',line=dict(color='green',width=5)))\n",
    "\n",
    "fig.add_trace(go.Scatter3d(x=X2[:,0], y=X2[:,1], z=X2[:,2], mode='lines+text', text=[\"\",\"xb\"], textfont=dict(color=\"blue\"), name='xb', line=dict(color='blue',width=5)))\n",
    "fig.add_trace(go.Scatter3d(x=Y2[:,0], y=Y2[:,1], z=Y2[:,2], mode='lines+text', text=[\"\",\"yb\"], textfont=dict(color=\"red\"), name='yb',line=dict(color='red',width=5)))\n",
    "fig.add_trace(go.Scatter3d(x=Z2[:,0], y=Z2[:,1], z=Z2[:,2], mode='lines+text', text=[\"\",\"zb\"], textfont=dict(color=\"green\"), name='zb',line=dict(color='green',width=5)))\n",
    "\n",
    "\n",
    "\n",
    "fig.add_trace(go.Scatter3d(x=X3[:,0], y=X3[:,1], z=X3[:,2], mode='lines+text', text=[\"\",\"xc\"], textfont=dict(color=\"blue\"), name='xc', line=dict(color='blue',width=5)))\n",
    "fig.add_trace(go.Scatter3d(x=Y3[:,0], y=Y3[:,1], z=Y3[:,2], mode='lines+text', text=[\"\",\"yc\"], textfont=dict(color=\"red\"), name='yc',line=dict(color='red',width=5)))\n",
    "fig.add_trace(go.Scatter3d(x=Z3[:,0], y=Z3[:,1], z=Z3[:,2], mode='lines+text', text=[\"\",\"zc\"], textfont=dict(color=\"green\"), name='zc',line=dict(color='green',width=5)))\n",
    "\n",
    "\n",
    "#Comando de plotar pontos\n",
    "#Substitua x=[0], y=[0], z=[0] pelas coordenadas do ponto\n",
    "fig.add_trace(go.Scatter3d(x=[pb2a[0]], y=[pb2a[1]], z=[pb2a[2]], mode='markers+text',text=[\"Pb\",\"\"], name='Pb', marker=dict(color='black',size=5)))\n",
    "fig.add_trace(go.Scatter3d(x=[pc2a[0]], y=[pc2a[1]], z=[pc2a[2]], mode='markers+text',text=[\"Pc\",\"\"], name='Pc', marker=dict(color='black',size=5)))\n",
    "\n",
    "fig.update_layout(\n",
    "    autosize=False,\n",
    "    showlegend=False,\n",
    "    width=500,\n",
    "    height=500,\n",
    "    margin=dict(l=0,r=0,t=0,b=0)\n",
    ")\n",
    "\n",
    "lim = 4.0\n",
    "fig.update_scenes(\n",
    "    aspectmode= \"cube\",\n",
    "    xaxis=dict(range=[-lim,lim]),\n",
    "    yaxis=dict(range=[-lim,lim]),\n",
    "    zaxis=dict(range=[-lim,lim])\n",
    ")"
   ]
  }
 ],
 "metadata": {
  "interpreter": {
   "hash": "4333fd1fe43e466f515c3a6ba90777eaed51e6920feedfbbb88898e3a37377d4"
  },
  "kernelspec": {
   "display_name": "Python 3.9.7 ('base')",
   "language": "python",
   "name": "python3"
  },
  "language_info": {
   "codemirror_mode": {
    "name": "ipython",
    "version": 3
   },
   "file_extension": ".py",
   "mimetype": "text/x-python",
   "name": "python",
   "nbconvert_exporter": "python",
   "pygments_lexer": "ipython3",
   "version": "3.9.7"
  },
  "orig_nbformat": 4
 },
 "nbformat": 4,
 "nbformat_minor": 2
}
